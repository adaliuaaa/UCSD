{
 "cells": [
  {
   "cell_type": "code",
   "execution_count": 1,
   "id": "959c47a5-7884-40b8-a682-82216b9ac874",
   "metadata": {},
   "outputs": [
    {
     "data": {
      "text/plain": [
       "<contextlib.ExitStack at 0x21aff589150>"
      ]
     },
     "execution_count": 1,
     "metadata": {},
     "output_type": "execute_result"
    }
   ],
   "source": [
    "import sympy as sp\n",
    "from sympy import symbols, pprint\n",
    "from sympy import sin, cos, asin, acos, pi\n",
    "from sympy import Matrix, simplify, Function, diff, Derivative, nsimplify, lambdify\n",
    "\n",
    "import numpy as np\n",
    "\n",
    "# from IPython import display # for the animation\n",
    "import matplotlib as mpl\n",
    "mpl.use('Qt5Agg')\n",
    "\n",
    "import matplotlib.pyplot as plt\n",
    "plt.ion()"
   ]
  },
  {
   "cell_type": "code",
   "execution_count": null,
   "id": "a507f953-0bb7-4e89-85c8-2486c95f541a",
   "metadata": {},
   "outputs": [],
   "source": [
    "def T(theta, x, y):\n",
    "    return Matrix([[cos(theta), -sin(theta), x], \n",
    "                   [sin(theta), cos(theta), y],\n",
    "                   [0, 0, 1]])\n",
    "\n",
    "def sym_to_np(T):\n",
    "    return np.array(T).astype(np.float64)"
   ]
  },
  {
   "cell_type": "code",
   "execution_count": 11,
   "id": "55cc2729-8873-479d-80ad-7a57fef46c0f",
   "metadata": {},
   "outputs": [],
   "source": [
    "def draw_robot(ordered_list_of_transformations):\n",
    "\n",
    "    ax_lw = 3\n",
    "    link_lw = 1\n",
    "\n",
    "    # homogeneous unit vectors \n",
    "    x = np.array([[1, 0, 1]]).T \n",
    "    y = np.array([[0, 1, 1]]).T\n",
    "    origin = np.array([[0, 0, 1]]).T\n",
    "\n",
    "    prev_origin = np.array([[0, 0, 1]]).T    \n",
    "    current_transformation = np.eye(3)\n",
    "\n",
    "    plt.clf()\n",
    "    ax = plt.gca()  # get current axis\n",
    "\n",
    "    # now we plot\n",
    "    plt.plot([prev_origin[0][0]], [prev_origin[1][0]], '-ko',linewidth=link_lw)\n",
    "    plt.plot([prev_origin[0][0], x[0][0]], [prev_origin[1][0], x[1][0]], '-ro', linewidth=ax_lw)\n",
    "    plt.plot([prev_origin[0][0], y[0][0]], [prev_origin[1][0], y[1][0]], '-go', linewidth=ax_lw)\n",
    "\n",
    "\n",
    "    # loop the transforms in order of T_01, T_12, ... , T_N-1N\n",
    "    for k, transform in enumerate(ordered_list_of_transformations):\n",
    "\n",
    "        # update the transformation\n",
    "        current_transformation = current_transformation @ transform\n",
    "        new_origin = current_transformation @ origin\n",
    "        new_x = current_transformation @ x\n",
    "        new_y = current_transformation @ y\n",
    "\n",
    "        # now we plot\n",
    "        plt.plot([prev_origin[0][0], new_origin[0][0]], \n",
    "                 [prev_origin[1][0], new_origin[1][0]], \n",
    "                 '-ko',linewidth=link_lw)\n",
    "        \n",
    "        plt.plot([new_origin[0][0], new_x[0][0]], [new_origin[1][0], new_x[1][0]], '-r', linewidth=ax_lw)\n",
    "        plt.plot([new_origin[0][0], new_y[0][0]], [new_origin[1][0], new_y[1][0]], '-g', linewidth=ax_lw)\n",
    "\n",
    "\n",
    "#         ax.annotate('{'+str(k+1)+'}', xy=new_origin[0:2][0], xytext=new_origin[0:2][0])\n",
    "\n",
    "        # lastly update the current_origin to the new_origin\n",
    "        prev_origin = new_origin\n",
    "\n",
    "    # lastly set the axes to be equal and appropriate\n",
    "    ax.set_aspect('equal')\n",
    "    ax.set_xlabel('x')\n",
    "    ax.set_ylabel('y')    "
   ]
  },
  {
   "cell_type": "markdown",
   "id": "fa9a7561-0400-4d95-9490-f66d1404d675",
   "metadata": {},
   "source": [
    "## Problem 1"
   ]
  },
  {
   "cell_type": "raw",
   "id": "b7d91b13-0fe5-42ac-8b4f-621d47f368b2",
   "metadata": {},
   "source": [
    "theta_1_motion = (np.pi / 2) * sin(t)\n",
    "theta_2_motion = (-2*np.pi / 3) * sin(t)\n",
    "theta_3_motion = (-np.pi / 6) * sin(t)"
   ]
  },
  {
   "cell_type": "code",
   "execution_count": 14,
   "id": "615f5a3d-2774-45bd-a7ff-b04f894073bb",
   "metadata": {},
   "outputs": [],
   "source": [
    "(t, theta_1, theta_2, theta_3, l_1, l_2, l_3, s) = symbols('t, theta_1 theta_2 theta_3 l_1 l_2 l_3 s', real = True)\n",
    "\n",
    "theta_1 = Function('theta_1', real=True)(t)\n",
    "theta_2 = Function('theta_2', real=True)(t)\n",
    "theta_3 = Function('theta_3', real=True)(t)"
   ]
  },
  {
   "cell_type": "code",
   "execution_count": 15,
   "id": "a6d796b7-4025-447e-b4f5-0d8d3e6a4f63",
   "metadata": {},
   "outputs": [],
   "source": [
    "T_01 = T(theta_1, 0, 0)\n",
    "T_12 = T(theta_2, l_1, 0)\n",
    "T_23 = T(theta_3, l_2, 0)"
   ]
  },
  {
   "cell_type": "code",
   "execution_count": 16,
   "id": "e9e9cede-f803-4b64-812d-07c2a7b94f1b",
   "metadata": {},
   "outputs": [],
   "source": [
    "FK1 = (T_01 * Matrix([[s], [0], [1]]))[:-1,0]\n",
    "FK2 = simplify((T_01 * T_12 * Matrix([[s], [0], [1]]))[:-1,0])\n",
    "FK3 = simplify((T_01 * T_12 * T_23 * Matrix([[s], [0], [1]]))[:-1,0])"
   ]
  },
  {
   "cell_type": "code",
   "execution_count": 17,
   "id": "7d60aa9a-779f-4aca-bdb9-524b515ab1c4",
   "metadata": {},
   "outputs": [
    {
     "data": {
      "text/latex": [
       "$\\displaystyle \\left[\\begin{matrix}s \\cos{\\left(\\theta_{1}{\\left(t \\right)} \\right)}\\\\s \\sin{\\left(\\theta_{1}{\\left(t \\right)} \\right)}\\end{matrix}\\right]$"
      ],
      "text/plain": [
       "Matrix([\n",
       "[s*cos(theta_1(t))],\n",
       "[s*sin(theta_1(t))]])"
      ]
     },
     "execution_count": 17,
     "metadata": {},
     "output_type": "execute_result"
    }
   ],
   "source": [
    "FK1"
   ]
  },
  {
   "cell_type": "code",
   "execution_count": 18,
   "id": "3d136815-fa52-469b-8f34-f1464a7e204e",
   "metadata": {},
   "outputs": [
    {
     "data": {
      "text/latex": [
       "$\\displaystyle \\left[\\begin{matrix}l_{1} \\cos{\\left(\\theta_{1}{\\left(t \\right)} \\right)} + s \\cos{\\left(\\theta_{1}{\\left(t \\right)} + \\theta_{2}{\\left(t \\right)} \\right)}\\\\l_{1} \\sin{\\left(\\theta_{1}{\\left(t \\right)} \\right)} + s \\sin{\\left(\\theta_{1}{\\left(t \\right)} + \\theta_{2}{\\left(t \\right)} \\right)}\\end{matrix}\\right]$"
      ],
      "text/plain": [
       "Matrix([\n",
       "[l_1*cos(theta_1(t)) + s*cos(theta_1(t) + theta_2(t))],\n",
       "[l_1*sin(theta_1(t)) + s*sin(theta_1(t) + theta_2(t))]])"
      ]
     },
     "execution_count": 18,
     "metadata": {},
     "output_type": "execute_result"
    }
   ],
   "source": [
    "FK2"
   ]
  },
  {
   "cell_type": "code",
   "execution_count": 19,
   "id": "0d656e8a-c03b-447b-bafc-8f99f82db557",
   "metadata": {},
   "outputs": [
    {
     "data": {
      "text/latex": [
       "$\\displaystyle \\left[\\begin{matrix}l_{1} \\cos{\\left(\\theta_{1}{\\left(t \\right)} \\right)} + l_{2} \\cos{\\left(\\theta_{1}{\\left(t \\right)} + \\theta_{2}{\\left(t \\right)} \\right)} + s \\cos{\\left(\\theta_{1}{\\left(t \\right)} + \\theta_{2}{\\left(t \\right)} + \\theta_{3}{\\left(t \\right)} \\right)}\\\\l_{1} \\sin{\\left(\\theta_{1}{\\left(t \\right)} \\right)} + l_{2} \\sin{\\left(\\theta_{1}{\\left(t \\right)} + \\theta_{2}{\\left(t \\right)} \\right)} + s \\sin{\\left(\\theta_{1}{\\left(t \\right)} + \\theta_{2}{\\left(t \\right)} + \\theta_{3}{\\left(t \\right)} \\right)}\\end{matrix}\\right]$"
      ],
      "text/plain": [
       "Matrix([\n",
       "[l_1*cos(theta_1(t)) + l_2*cos(theta_1(t) + theta_2(t)) + s*cos(theta_1(t) + theta_2(t) + theta_3(t))],\n",
       "[l_1*sin(theta_1(t)) + l_2*sin(theta_1(t) + theta_2(t)) + s*sin(theta_1(t) + theta_2(t) + theta_3(t))]])"
      ]
     },
     "execution_count": 19,
     "metadata": {},
     "output_type": "execute_result"
    }
   ],
   "source": [
    "FK3"
   ]
  },
  {
   "cell_type": "code",
   "execution_count": 20,
   "id": "8d7cdafb-bdad-48f2-9366-f97fdda677eb",
   "metadata": {},
   "outputs": [],
   "source": [
    "J1 = FK1.jacobian([theta_1, theta_2, theta_3])\n",
    "J2 = simplify(FK2.jacobian([theta_1, theta_2, theta_3]))\n",
    "J3 = simplify(FK3.jacobian([theta_1, theta_2, theta_3]))"
   ]
  },
  {
   "cell_type": "code",
   "execution_count": 21,
   "id": "f847fab7-7e5a-4338-bd73-8e8ab9abeeee",
   "metadata": {},
   "outputs": [
    {
     "data": {
      "text/latex": [
       "$\\displaystyle \\left[\\begin{matrix}- s \\sin{\\left(\\theta_{1}{\\left(t \\right)} \\right)} & 0 & 0\\\\s \\cos{\\left(\\theta_{1}{\\left(t \\right)} \\right)} & 0 & 0\\end{matrix}\\right]$"
      ],
      "text/plain": [
       "Matrix([\n",
       "[-s*sin(theta_1(t)), 0, 0],\n",
       "[ s*cos(theta_1(t)), 0, 0]])"
      ]
     },
     "execution_count": 21,
     "metadata": {},
     "output_type": "execute_result"
    }
   ],
   "source": [
    "J1"
   ]
  },
  {
   "cell_type": "code",
   "execution_count": 22,
   "id": "7f80310e-339d-41a0-8f0e-950175b8de03",
   "metadata": {},
   "outputs": [
    {
     "data": {
      "text/latex": [
       "$\\displaystyle \\left[\\begin{matrix}- l_{1} \\sin{\\left(\\theta_{1}{\\left(t \\right)} \\right)} - s \\sin{\\left(\\theta_{1}{\\left(t \\right)} + \\theta_{2}{\\left(t \\right)} \\right)} & - s \\sin{\\left(\\theta_{1}{\\left(t \\right)} + \\theta_{2}{\\left(t \\right)} \\right)} & 0\\\\l_{1} \\cos{\\left(\\theta_{1}{\\left(t \\right)} \\right)} + s \\cos{\\left(\\theta_{1}{\\left(t \\right)} + \\theta_{2}{\\left(t \\right)} \\right)} & s \\cos{\\left(\\theta_{1}{\\left(t \\right)} + \\theta_{2}{\\left(t \\right)} \\right)} & 0\\end{matrix}\\right]$"
      ],
      "text/plain": [
       "Matrix([\n",
       "[-l_1*sin(theta_1(t)) - s*sin(theta_1(t) + theta_2(t)), -s*sin(theta_1(t) + theta_2(t)), 0],\n",
       "[ l_1*cos(theta_1(t)) + s*cos(theta_1(t) + theta_2(t)),  s*cos(theta_1(t) + theta_2(t)), 0]])"
      ]
     },
     "execution_count": 22,
     "metadata": {},
     "output_type": "execute_result"
    }
   ],
   "source": [
    "J2"
   ]
  },
  {
   "cell_type": "code",
   "execution_count": 23,
   "id": "df1e0e0f-4279-4da6-be4a-4c38e5cb9b0c",
   "metadata": {},
   "outputs": [
    {
     "data": {
      "text/latex": [
       "$\\displaystyle \\left[\\begin{matrix}- l_{1} \\sin{\\left(\\theta_{1}{\\left(t \\right)} \\right)} - l_{2} \\sin{\\left(\\theta_{1}{\\left(t \\right)} + \\theta_{2}{\\left(t \\right)} \\right)} - s \\sin{\\left(\\theta_{1}{\\left(t \\right)} + \\theta_{2}{\\left(t \\right)} + \\theta_{3}{\\left(t \\right)} \\right)} & - l_{2} \\sin{\\left(\\theta_{1}{\\left(t \\right)} + \\theta_{2}{\\left(t \\right)} \\right)} - s \\sin{\\left(\\theta_{1}{\\left(t \\right)} + \\theta_{2}{\\left(t \\right)} + \\theta_{3}{\\left(t \\right)} \\right)} & - s \\sin{\\left(\\theta_{1}{\\left(t \\right)} + \\theta_{2}{\\left(t \\right)} + \\theta_{3}{\\left(t \\right)} \\right)}\\\\l_{1} \\cos{\\left(\\theta_{1}{\\left(t \\right)} \\right)} + l_{2} \\cos{\\left(\\theta_{1}{\\left(t \\right)} + \\theta_{2}{\\left(t \\right)} \\right)} + s \\cos{\\left(\\theta_{1}{\\left(t \\right)} + \\theta_{2}{\\left(t \\right)} + \\theta_{3}{\\left(t \\right)} \\right)} & l_{2} \\cos{\\left(\\theta_{1}{\\left(t \\right)} + \\theta_{2}{\\left(t \\right)} \\right)} + s \\cos{\\left(\\theta_{1}{\\left(t \\right)} + \\theta_{2}{\\left(t \\right)} + \\theta_{3}{\\left(t \\right)} \\right)} & s \\cos{\\left(\\theta_{1}{\\left(t \\right)} + \\theta_{2}{\\left(t \\right)} + \\theta_{3}{\\left(t \\right)} \\right)}\\end{matrix}\\right]$"
      ],
      "text/plain": [
       "Matrix([\n",
       "[-l_1*sin(theta_1(t)) - l_2*sin(theta_1(t) + theta_2(t)) - s*sin(theta_1(t) + theta_2(t) + theta_3(t)), -l_2*sin(theta_1(t) + theta_2(t)) - s*sin(theta_1(t) + theta_2(t) + theta_3(t)), -s*sin(theta_1(t) + theta_2(t) + theta_3(t))],\n",
       "[ l_1*cos(theta_1(t)) + l_2*cos(theta_1(t) + theta_2(t)) + s*cos(theta_1(t) + theta_2(t) + theta_3(t)),  l_2*cos(theta_1(t) + theta_2(t)) + s*cos(theta_1(t) + theta_2(t) + theta_3(t)),  s*cos(theta_1(t) + theta_2(t) + theta_3(t))]])"
      ]
     },
     "execution_count": 23,
     "metadata": {},
     "output_type": "execute_result"
    }
   ],
   "source": [
    "J3"
   ]
  },
  {
   "cell_type": "code",
   "execution_count": 24,
   "id": "f190e2ee-4e2d-4178-a57d-622da16c5cc5",
   "metadata": {},
   "outputs": [],
   "source": [
    "# Lambdify symbolic expressions\n",
    "J1_func = lambdify((s, l_1, l_2, l_3, theta_1, theta_2, theta_3), J1)\n",
    "J2_func = lambdify((s, l_1, l_2, l_3, theta_1, theta_2, theta_3), J2)\n",
    "J3_func = lambdify((s, l_1, l_2, l_3, theta_1, theta_2, theta_3), J3)\n",
    "\n",
    "FK1_func = lambdify((s, l_1, l_2, l_3, theta_1, theta_2, theta_3), FK1)\n",
    "FK2_func = lambdify((s, l_1, l_2, l_3, theta_1, theta_2, theta_3), FK2)\n",
    "FK3_func = lambdify((s, l_1, l_2, l_3, theta_1, theta_2, theta_3), FK3)"
   ]
  },
  {
   "cell_type": "code",
   "execution_count": 55,
   "id": "b8976881-7f1f-4247-a12b-278ca3b740aa",
   "metadata": {},
   "outputs": [
    {
     "name": "stderr",
     "output_type": "stream",
     "text": [
      "C:\\Users\\78469\\AppData\\Local\\Temp\\ipykernel_37824\\2527193379.py:35: DeprecationWarning: Conversion of an array with ndim > 0 to a scalar is deprecated, and will error in future. Ensure you extract a single element from your array before performing this operation. (Deprecated NumPy 1.25.)\n",
      "  plt.quiver(float(pos1[0]), float(pos1[1]), float(-vel1[0]), float(-vel1[1]))\n",
      "C:\\Users\\78469\\AppData\\Local\\Temp\\ipykernel_37824\\2527193379.py:40: DeprecationWarning: Conversion of an array with ndim > 0 to a scalar is deprecated, and will error in future. Ensure you extract a single element from your array before performing this operation. (Deprecated NumPy 1.25.)\n",
      "  plt.quiver(float(pos2[0]), float(pos2[1]), float(-vel2[0]), float(-vel2[1]))\n",
      "C:\\Users\\78469\\AppData\\Local\\Temp\\ipykernel_37824\\2527193379.py:45: DeprecationWarning: Conversion of an array with ndim > 0 to a scalar is deprecated, and will error in future. Ensure you extract a single element from your array before performing this operation. (Deprecated NumPy 1.25.)\n",
      "  plt.quiver(float(pos3[0]), float(pos3[1]), float(-vel3[0]), float(-vel3[1]))\n"
     ]
    }
   ],
   "source": [
    "link1 = 1  \n",
    "link2 = 1\n",
    "link3 = 1\n",
    "\n",
    "theta1 = 45 * np.pi/180 \n",
    "theta2 = -60 * np.pi/180\n",
    "theta3 = -30 * np.pi/180\n",
    "\n",
    "theta1_time = np.linspace(0, theta1, 50)\n",
    "theta2_time = np.linspace(0, theta2, 50)\n",
    "theta3_time = np.linspace(0, theta3, 50)\n",
    "\n",
    "dtheta1_time = np.gradient(np.linspace(0, theta1, 50))\n",
    "dtheta2_time = np.gradient(np.linspace(0, theta2, 50))\n",
    "dtheta3_time = np.gradient(np.linspace(0, theta3, 50))\n",
    "\n",
    "fig = plt.figure(1,figsize = (8,8))\n",
    "\n",
    "# Main simulation loop\n",
    "for theta1_current, theta2_current, theta3_current, v1, v2, v3 in zip(theta1_time, theta2_time, theta3_time, dtheta1_time, dtheta2_time, dtheta3_time):\n",
    "    # Make transformation matrices\n",
    "    T_01_real = sym_to_np(T_01.subs([(theta_1, theta1_current)]))\n",
    "    T_12_real = sym_to_np(T_12.subs([(theta_2, theta2_current), (l_1, link1)]))\n",
    "    T_23_real = sym_to_np(T_23.subs([(theta_3, theta3_current), (l_2, link2)]))\n",
    "    T_34_real = sym_to_np(T(0, link3, 0))\n",
    "    \n",
    "    draw_robot([T_01_real, T_12_real, T_23_real, T_34_real])\n",
    "\n",
    "    # F=-v\n",
    "    for ss in np.linspace(0.1, 1, 10):\n",
    "        # Evaluate Jacobians and FK using lambdified functions\n",
    "        vel1 = J1_func(ss*link1, link1, link2, link3, theta1_current, theta2_current, theta3_current) @ np.array([v1, v2, v3])\n",
    "        pos1 = FK1_func(ss*link1, link1, link2, link3, theta1_current, theta2_current, theta3_current)\n",
    "        \n",
    "        plt.quiver(float(pos1[0]), float(pos1[1]), float(-vel1[0]), float(-vel1[1]))\n",
    "        \n",
    "        vel2 = J2_func(ss*link2, link1, link2, link3, theta1_current, theta2_current, theta3_current) @ np.array([v1, v2, v3])\n",
    "        pos2 = FK2_func(ss*link2, link1, link2, link3, theta1_current, theta2_current, theta3_current)\n",
    "        \n",
    "        plt.quiver(float(pos2[0]), float(pos2[1]), float(-vel2[0]), float(-vel2[1]))\n",
    "        \n",
    "        vel3 = J3_func(ss*link3, link1, link2, link3, theta1_current, theta2_current, theta3_current) @ np.array([v1, v2, v3])\n",
    "        pos3 = FK3_func(ss*link3, link1, link2, link3, theta1_current, theta2_current, theta3_current)\n",
    "        \n",
    "        plt.quiver(float(pos3[0]), float(pos3[1]), float(-vel3[0]), float(-vel3[1]))\n",
    "\n",
    "    sc = 25\n",
    "    plt.axis([-1, 4, -2, 3])\n",
    "    plt.draw()\n",
    "    plt.pause(0.01)\n"
   ]
  },
  {
   "cell_type": "code",
   "execution_count": 71,
   "id": "7d802d83-d371-4c4e-932c-2542c43d78b5",
   "metadata": {},
   "outputs": [
    {
     "data": {
      "text/plain": [
       "array([0.        , 0.01602853, 0.03205707, 0.0480856 , 0.06411414,\n",
       "       0.08014267, 0.0961712 , 0.11219974, 0.12822827, 0.14425681,\n",
       "       0.16028534, 0.17631387, 0.19234241, 0.20837094, 0.22439948,\n",
       "       0.24042801, 0.25645654, 0.27248508, 0.28851361, 0.30454214,\n",
       "       0.32057068, 0.33659921, 0.35262775, 0.36865628, 0.38468481,\n",
       "       0.40071335, 0.41674188, 0.43277042, 0.44879895, 0.46482748,\n",
       "       0.48085602, 0.49688455, 0.51291309, 0.52894162, 0.54497015,\n",
       "       0.56099869, 0.57702722, 0.59305576, 0.60908429, 0.62511282,\n",
       "       0.64114136, 0.65716989, 0.67319843, 0.68922696, 0.70525549,\n",
       "       0.72128403, 0.73731256, 0.7533411 , 0.76936963, 0.78539816])"
      ]
     },
     "execution_count": 71,
     "metadata": {},
     "output_type": "execute_result"
    }
   ],
   "source": [
    "theta1_time"
   ]
  },
  {
   "cell_type": "code",
   "execution_count": 61,
   "id": "258b9a97-c7ea-433e-94c0-7e2ed0167718",
   "metadata": {},
   "outputs": [
    {
     "data": {
      "text/plain": [
       "[array([[-0.0113338850463224*s*sin(theta_1(t)),\n",
       "         -0.0113338850463224*s*cos(theta_1(t))],\n",
       "        [0, 0],\n",
       "        [0, 0]], dtype=object),\n",
       " array([[-0.0127167149964979*l_1*sin(theta_1(t)) - 0.0127167149964979*s*sin(theta_1(t) + theta_2(t)),\n",
       "         -0.00617309341403948*l_1*cos(theta_1(t)) - 0.00617309341403948*s*cos(theta_1(t) + theta_2(t))],\n",
       "        [-0.0127167149964979*s*sin(theta_1(t) + theta_2(t)),\n",
       "         -0.00617309341403948*s*cos(theta_1(t) + theta_2(t))],\n",
       "        [0, 0]], dtype=object),\n",
       " array([[-0.0240506000428202*l_1*sin(theta_1(t)) - 0.0240506000428202*l_2*sin(theta_1(t) + theta_2(t)) - 0.0240506000428202*s*sin(theta_1(t) + theta_2(t) + theta_3(t)),\n",
       "         0.00516079163228284*l_1*cos(theta_1(t)) + 0.00516079163228284*l_2*cos(theta_1(t) + theta_2(t)) + 0.00516079163228284*s*cos(theta_1(t) + theta_2(t) + theta_3(t))],\n",
       "        [-0.0240506000428202*l_2*sin(theta_1(t) + theta_2(t)) - 0.0240506000428202*s*sin(theta_1(t) + theta_2(t) + theta_3(t)),\n",
       "         0.00516079163228284*l_2*cos(theta_1(t) + theta_2(t)) + 0.00516079163228284*s*cos(theta_1(t) + theta_2(t) + theta_3(t))],\n",
       "        [-0.0240506000428202*s*sin(theta_1(t) + theta_2(t) + theta_3(t)),\n",
       "         0.00516079163228284*s*cos(theta_1(t) + theta_2(t) + theta_3(t))]],\n",
       "       dtype=object)]"
      ]
     },
     "execution_count": 61,
     "metadata": {},
     "output_type": "execute_result"
    }
   ],
   "source": [
    "torque1 = J1.T * -vel1\n",
    "torque2 = J2.T * -vel2\n",
    "torque3 = J3.T * -vel3\n",
    "torque = [torque1, torque2, torque3]\n",
    "torque"
   ]
  },
  {
   "cell_type": "code",
   "execution_count": null,
   "id": "795072aa-630f-42cc-a8a0-8ded68e7ac48",
   "metadata": {},
   "outputs": [],
   "source": [
    "fig = plt.figure(1,figsize = (8,8))\n",
    "\n",
    "# Main simulation loop\n",
    "for theta1_current, theta2_current, theta3_current, v1, v2, v3 in zip(theta1_time, theta2_time, theta3_time, dtheta1_time, dtheta2_time, dtheta3_time):\n",
    "    # Make transformation matrices\n",
    "    T_01_real = sym_to_np(T_01.subs([(theta_1, theta1_current)]))\n",
    "    T_12_real = sym_to_np(T_12.subs([(theta_2, theta2_current), (l_1, link1)]))\n",
    "    T_23_real = sym_to_np(T_23.subs([(theta_3, theta3_current), (l_2, link2)]))\n",
    "    T_34_real = sym_to_np(T(0, link3, 0))\n",
    "    \n",
    "    draw_robot([T_01_real, T_12_real, T_23_real, T_34_real])\n",
    "\n",
    "    F1 = -J1_func(1, link1, link2, link3, theta1_current, theta2_current, theta3_current) @ np.array([v1, v2, v3])\n",
    "    torque1 = J1_func(1, link1, link2, link3, theta1_current, theta2_current, theta3_current).T * F1\n",
    "    \n",
    "    # plt.quiver(float(torque1[0]), float(torque1[1]), float(F1[0]), float(F1[1]))\n",
    "    \n",
    "    F2 = -J2_func(1, link1, link2, link3, theta1_current, theta2_current, theta3_current) @ np.array([v1, v2, v3])\n",
    "    torque2 = J2_func(1, link1, link2, link3, theta1_current, theta2_current, theta3_current).T * F2\n",
    "\n",
    "    \n",
    "    F3 = -J3_func(1, link1, link2, link3, theta1_current, theta2_current, theta3_current) @ np.array([v1, v2, v3])\n",
    "    torque3 = J3_func(1, link1, link2, link3, theta1_current, theta2_current, theta3_current).T * F3\n"
   ]
  },
  {
   "cell_type": "code",
   "execution_count": 72,
   "id": "28c09368-b87f-446f-86e9-edceacd5b464",
   "metadata": {},
   "outputs": [],
   "source": [
    "# two links one joint\n",
    "FK1 = (T_01 * Matrix([[l_1], [0], [1]]))[:-1,0]\n",
    "FK2 = simplify((T_01 * T_12 * Matrix([[l_2], [0], [1]]))[:-1,0])\n",
    "J1 = FK1.jacobian([theta_1, theta_2])\n",
    "J2 = simplify(FK2.jacobian([theta_1, theta_2]))"
   ]
  },
  {
   "cell_type": "code",
   "execution_count": null,
   "id": "94d908e0-33a8-4bc9-9ae8-d6e91d1b167f",
   "metadata": {},
   "outputs": [],
   "source": [
    "# When the system starts and ends at the same angle, \n",
    "# the forces inside the system cancel each other out, resulting in a net force of zero."
   ]
  },
  {
   "cell_type": "markdown",
   "id": "66c2efd8-d5ab-425e-92fc-381b5a91e7ff",
   "metadata": {},
   "source": [
    "## Problem 2"
   ]
  },
  {
   "cell_type": "code",
   "execution_count": 153,
   "id": "ce4bef8e-ff19-4309-85b6-3c8ede688842",
   "metadata": {},
   "outputs": [],
   "source": [
    "(t, theta_1, theta_2, theta_3, l) = symbols('t, theta_1 theta_2 theta_3 l', real = True)\n",
    "\n",
    "theta_1 = Function('theta_1', real=True)(t)\n",
    "theta_2 = Function('theta_2', real=True)(t)\n",
    "theta_3 = Function('theta_3', real=True)(t)"
   ]
  },
  {
   "cell_type": "code",
   "execution_count": 154,
   "id": "32e8aab0-77ae-4e9c-acb2-fe011ccf875e",
   "metadata": {},
   "outputs": [],
   "source": [
    "T_01 = T(theta_1, 0, 0)\n",
    "T_12 = T(theta_2, l, 0)\n",
    "T_23 = T(theta_3, l, 0)"
   ]
  },
  {
   "cell_type": "code",
   "execution_count": 157,
   "id": "4cf3138f-e746-4904-809a-07fb0861ca52",
   "metadata": {},
   "outputs": [],
   "source": [
    "FK1 = (T_01 * Matrix([[l], [0], [1]]))[:-1,0]\n",
    "FK2 = simplify((T_01 * T_12 * Matrix([[l], [0], [1]]))[:-1,0])\n",
    "FK3 = simplify((T_01 * T_12 * T_23 * Matrix([[l], [0], [1]]))[:-1,0])\n",
    "J1 = FK1.jacobian([theta_1, theta_2, theta_3])\n",
    "J2 = simplify(FK2.jacobian([theta_1, theta_2, theta_3]))\n",
    "J3 = simplify(FK3.jacobian([theta_1, theta_2, theta_3]))"
   ]
  },
  {
   "cell_type": "code",
   "execution_count": 158,
   "id": "144e8f09-8aa5-4fcf-9ce6-4ea2630c6eaa",
   "metadata": {},
   "outputs": [
    {
     "data": {
      "text/latex": [
       "$\\displaystyle \\left[\\begin{matrix}l \\cos{\\left(\\theta_{1}{\\left(t \\right)} \\right)}\\\\l \\sin{\\left(\\theta_{1}{\\left(t \\right)} \\right)}\\end{matrix}\\right]$"
      ],
      "text/plain": [
       "Matrix([\n",
       "[l*cos(theta_1(t))],\n",
       "[l*sin(theta_1(t))]])"
      ]
     },
     "execution_count": 158,
     "metadata": {},
     "output_type": "execute_result"
    }
   ],
   "source": [
    "FK1"
   ]
  },
  {
   "cell_type": "code",
   "execution_count": 159,
   "id": "fc5e2736-d62f-42f0-9a55-476b983fe771",
   "metadata": {},
   "outputs": [
    {
     "data": {
      "text/latex": [
       "$\\displaystyle \\left[\\begin{matrix}l \\left(\\cos{\\left(\\theta_{1}{\\left(t \\right)} + \\theta_{2}{\\left(t \\right)} \\right)} + \\cos{\\left(\\theta_{1}{\\left(t \\right)} \\right)}\\right)\\\\l \\left(\\sin{\\left(\\theta_{1}{\\left(t \\right)} + \\theta_{2}{\\left(t \\right)} \\right)} + \\sin{\\left(\\theta_{1}{\\left(t \\right)} \\right)}\\right)\\end{matrix}\\right]$"
      ],
      "text/plain": [
       "Matrix([\n",
       "[l*(cos(theta_1(t) + theta_2(t)) + cos(theta_1(t)))],\n",
       "[l*(sin(theta_1(t) + theta_2(t)) + sin(theta_1(t)))]])"
      ]
     },
     "execution_count": 159,
     "metadata": {},
     "output_type": "execute_result"
    }
   ],
   "source": [
    "FK2"
   ]
  },
  {
   "cell_type": "code",
   "execution_count": 160,
   "id": "37857354-79eb-4478-882b-035ab1241386",
   "metadata": {},
   "outputs": [
    {
     "data": {
      "text/latex": [
       "$\\displaystyle \\left[\\begin{matrix}l \\left(\\cos{\\left(\\theta_{1}{\\left(t \\right)} + \\theta_{2}{\\left(t \\right)} \\right)} + \\cos{\\left(\\theta_{1}{\\left(t \\right)} + \\theta_{2}{\\left(t \\right)} + \\theta_{3}{\\left(t \\right)} \\right)} + \\cos{\\left(\\theta_{1}{\\left(t \\right)} \\right)}\\right)\\\\l \\left(\\sin{\\left(\\theta_{1}{\\left(t \\right)} + \\theta_{2}{\\left(t \\right)} \\right)} + \\sin{\\left(\\theta_{1}{\\left(t \\right)} + \\theta_{2}{\\left(t \\right)} + \\theta_{3}{\\left(t \\right)} \\right)} + \\sin{\\left(\\theta_{1}{\\left(t \\right)} \\right)}\\right)\\end{matrix}\\right]$"
      ],
      "text/plain": [
       "Matrix([\n",
       "[l*(cos(theta_1(t) + theta_2(t)) + cos(theta_1(t) + theta_2(t) + theta_3(t)) + cos(theta_1(t)))],\n",
       "[l*(sin(theta_1(t) + theta_2(t)) + sin(theta_1(t) + theta_2(t) + theta_3(t)) + sin(theta_1(t)))]])"
      ]
     },
     "execution_count": 160,
     "metadata": {},
     "output_type": "execute_result"
    }
   ],
   "source": [
    "FK3"
   ]
  },
  {
   "cell_type": "code",
   "execution_count": 161,
   "id": "bff7f7ac-c4d5-44a7-9d85-a03c39d1be07",
   "metadata": {},
   "outputs": [
    {
     "data": {
      "text/latex": [
       "$\\displaystyle \\left[\\begin{matrix}- l \\sin{\\left(\\theta_{1}{\\left(t \\right)} \\right)} & 0 & 0\\\\l \\cos{\\left(\\theta_{1}{\\left(t \\right)} \\right)} & 0 & 0\\end{matrix}\\right]$"
      ],
      "text/plain": [
       "Matrix([\n",
       "[-l*sin(theta_1(t)), 0, 0],\n",
       "[ l*cos(theta_1(t)), 0, 0]])"
      ]
     },
     "execution_count": 161,
     "metadata": {},
     "output_type": "execute_result"
    }
   ],
   "source": [
    "J1"
   ]
  },
  {
   "cell_type": "code",
   "execution_count": 162,
   "id": "e77da8d1-e950-4f13-a947-ebdb5c44626e",
   "metadata": {},
   "outputs": [
    {
     "data": {
      "text/latex": [
       "$\\displaystyle \\left[\\begin{matrix}- l \\left(\\sin{\\left(\\theta_{1}{\\left(t \\right)} + \\theta_{2}{\\left(t \\right)} \\right)} + \\sin{\\left(\\theta_{1}{\\left(t \\right)} \\right)}\\right) & - l \\sin{\\left(\\theta_{1}{\\left(t \\right)} + \\theta_{2}{\\left(t \\right)} \\right)} & 0\\\\l \\left(\\cos{\\left(\\theta_{1}{\\left(t \\right)} + \\theta_{2}{\\left(t \\right)} \\right)} + \\cos{\\left(\\theta_{1}{\\left(t \\right)} \\right)}\\right) & l \\cos{\\left(\\theta_{1}{\\left(t \\right)} + \\theta_{2}{\\left(t \\right)} \\right)} & 0\\end{matrix}\\right]$"
      ],
      "text/plain": [
       "Matrix([\n",
       "[-l*(sin(theta_1(t) + theta_2(t)) + sin(theta_1(t))), -l*sin(theta_1(t) + theta_2(t)), 0],\n",
       "[ l*(cos(theta_1(t) + theta_2(t)) + cos(theta_1(t))),  l*cos(theta_1(t) + theta_2(t)), 0]])"
      ]
     },
     "execution_count": 162,
     "metadata": {},
     "output_type": "execute_result"
    }
   ],
   "source": [
    "J2"
   ]
  },
  {
   "cell_type": "code",
   "execution_count": 163,
   "id": "fee1eb96-2bc2-41d9-a33a-daa6c6752f14",
   "metadata": {},
   "outputs": [
    {
     "data": {
      "text/latex": [
       "$\\displaystyle \\left[\\begin{matrix}- l \\left(\\sin{\\left(\\theta_{1}{\\left(t \\right)} + \\theta_{2}{\\left(t \\right)} \\right)} + \\sin{\\left(\\theta_{1}{\\left(t \\right)} + \\theta_{2}{\\left(t \\right)} + \\theta_{3}{\\left(t \\right)} \\right)} + \\sin{\\left(\\theta_{1}{\\left(t \\right)} \\right)}\\right) & - l \\left(\\sin{\\left(\\theta_{1}{\\left(t \\right)} + \\theta_{2}{\\left(t \\right)} \\right)} + \\sin{\\left(\\theta_{1}{\\left(t \\right)} + \\theta_{2}{\\left(t \\right)} + \\theta_{3}{\\left(t \\right)} \\right)}\\right) & - l \\sin{\\left(\\theta_{1}{\\left(t \\right)} + \\theta_{2}{\\left(t \\right)} + \\theta_{3}{\\left(t \\right)} \\right)}\\\\l \\left(\\cos{\\left(\\theta_{1}{\\left(t \\right)} + \\theta_{2}{\\left(t \\right)} \\right)} + \\cos{\\left(\\theta_{1}{\\left(t \\right)} + \\theta_{2}{\\left(t \\right)} + \\theta_{3}{\\left(t \\right)} \\right)} + \\cos{\\left(\\theta_{1}{\\left(t \\right)} \\right)}\\right) & l \\left(\\cos{\\left(\\theta_{1}{\\left(t \\right)} + \\theta_{2}{\\left(t \\right)} \\right)} + \\cos{\\left(\\theta_{1}{\\left(t \\right)} + \\theta_{2}{\\left(t \\right)} + \\theta_{3}{\\left(t \\right)} \\right)}\\right) & l \\cos{\\left(\\theta_{1}{\\left(t \\right)} + \\theta_{2}{\\left(t \\right)} + \\theta_{3}{\\left(t \\right)} \\right)}\\end{matrix}\\right]$"
      ],
      "text/plain": [
       "Matrix([\n",
       "[-l*(sin(theta_1(t) + theta_2(t)) + sin(theta_1(t) + theta_2(t) + theta_3(t)) + sin(theta_1(t))), -l*(sin(theta_1(t) + theta_2(t)) + sin(theta_1(t) + theta_2(t) + theta_3(t))), -l*sin(theta_1(t) + theta_2(t) + theta_3(t))],\n",
       "[ l*(cos(theta_1(t) + theta_2(t)) + cos(theta_1(t) + theta_2(t) + theta_3(t)) + cos(theta_1(t))),  l*(cos(theta_1(t) + theta_2(t)) + cos(theta_1(t) + theta_2(t) + theta_3(t))),  l*cos(theta_1(t) + theta_2(t) + theta_3(t))]])"
      ]
     },
     "execution_count": 163,
     "metadata": {},
     "output_type": "execute_result"
    }
   ],
   "source": [
    "J3"
   ]
  },
  {
   "cell_type": "code",
   "execution_count": 164,
   "id": "bf5f5f1c-2add-4363-9cd6-ef346dec1d21",
   "metadata": {},
   "outputs": [
    {
     "data": {
      "text/latex": [
       "$\\displaystyle \\left[\\begin{matrix}- l \\sin{\\left(\\theta_{1}{\\left(t \\right)} \\right)} & 0 & 0\\\\l \\cos{\\left(\\theta_{1}{\\left(t \\right)} \\right)} & 0 & 0\\\\- l \\left(\\sin{\\left(\\theta_{1}{\\left(t \\right)} + \\theta_{2}{\\left(t \\right)} \\right)} + \\sin{\\left(\\theta_{1}{\\left(t \\right)} \\right)}\\right) & - l \\sin{\\left(\\theta_{1}{\\left(t \\right)} + \\theta_{2}{\\left(t \\right)} \\right)} & 0\\\\l \\left(\\cos{\\left(\\theta_{1}{\\left(t \\right)} + \\theta_{2}{\\left(t \\right)} \\right)} + \\cos{\\left(\\theta_{1}{\\left(t \\right)} \\right)}\\right) & l \\cos{\\left(\\theta_{1}{\\left(t \\right)} + \\theta_{2}{\\left(t \\right)} \\right)} & 0\\\\- l \\left(\\sin{\\left(\\theta_{1}{\\left(t \\right)} + \\theta_{2}{\\left(t \\right)} \\right)} + \\sin{\\left(\\theta_{1}{\\left(t \\right)} + \\theta_{2}{\\left(t \\right)} + \\theta_{3}{\\left(t \\right)} \\right)} + \\sin{\\left(\\theta_{1}{\\left(t \\right)} \\right)}\\right) & - l \\left(\\sin{\\left(\\theta_{1}{\\left(t \\right)} + \\theta_{2}{\\left(t \\right)} \\right)} + \\sin{\\left(\\theta_{1}{\\left(t \\right)} + \\theta_{2}{\\left(t \\right)} + \\theta_{3}{\\left(t \\right)} \\right)}\\right) & - l \\sin{\\left(\\theta_{1}{\\left(t \\right)} + \\theta_{2}{\\left(t \\right)} + \\theta_{3}{\\left(t \\right)} \\right)}\\\\l \\left(\\cos{\\left(\\theta_{1}{\\left(t \\right)} + \\theta_{2}{\\left(t \\right)} \\right)} + \\cos{\\left(\\theta_{1}{\\left(t \\right)} + \\theta_{2}{\\left(t \\right)} + \\theta_{3}{\\left(t \\right)} \\right)} + \\cos{\\left(\\theta_{1}{\\left(t \\right)} \\right)}\\right) & l \\left(\\cos{\\left(\\theta_{1}{\\left(t \\right)} + \\theta_{2}{\\left(t \\right)} \\right)} + \\cos{\\left(\\theta_{1}{\\left(t \\right)} + \\theta_{2}{\\left(t \\right)} + \\theta_{3}{\\left(t \\right)} \\right)}\\right) & l \\cos{\\left(\\theta_{1}{\\left(t \\right)} + \\theta_{2}{\\left(t \\right)} + \\theta_{3}{\\left(t \\right)} \\right)}\\end{matrix}\\right]$"
      ],
      "text/plain": [
       "Matrix([\n",
       "[                                                                             -l*sin(theta_1(t)),                                                                             0,                                            0],\n",
       "[                                                                              l*cos(theta_1(t)),                                                                             0,                                            0],\n",
       "[                                            -l*(sin(theta_1(t) + theta_2(t)) + sin(theta_1(t))),                                               -l*sin(theta_1(t) + theta_2(t)),                                            0],\n",
       "[                                             l*(cos(theta_1(t) + theta_2(t)) + cos(theta_1(t))),                                                l*cos(theta_1(t) + theta_2(t)),                                            0],\n",
       "[-l*(sin(theta_1(t) + theta_2(t)) + sin(theta_1(t) + theta_2(t) + theta_3(t)) + sin(theta_1(t))), -l*(sin(theta_1(t) + theta_2(t)) + sin(theta_1(t) + theta_2(t) + theta_3(t))), -l*sin(theta_1(t) + theta_2(t) + theta_3(t))],\n",
       "[ l*(cos(theta_1(t) + theta_2(t)) + cos(theta_1(t) + theta_2(t) + theta_3(t)) + cos(theta_1(t))),  l*(cos(theta_1(t) + theta_2(t)) + cos(theta_1(t) + theta_2(t) + theta_3(t))),  l*cos(theta_1(t) + theta_2(t) + theta_3(t))]])"
      ]
     },
     "execution_count": 164,
     "metadata": {},
     "output_type": "execute_result"
    }
   ],
   "source": [
    "J = Matrix([[J1], [J2], [J3]])\n",
    "J"
   ]
  },
  {
   "cell_type": "code",
   "execution_count": 165,
   "id": "7c1a8ff9-645c-469d-b94e-31745fe891e5",
   "metadata": {},
   "outputs": [
    {
     "data": {
      "text/latex": [
       "$\\displaystyle \\left[\\begin{matrix}m_{1} & 0 & 0 & 0 & 0 & 0\\\\0 & m_{1} & 0 & 0 & 0 & 0\\\\0 & 0 & m_{2} & 0 & 0 & 0\\\\0 & 0 & 0 & m_{2} & 0 & 0\\\\0 & 0 & 0 & 0 & m_{3} & 0\\\\0 & 0 & 0 & 0 & 0 & m_{3}\\end{matrix}\\right]$"
      ],
      "text/plain": [
       "Matrix([\n",
       "[m_1,   0,   0,   0,   0,   0],\n",
       "[  0, m_1,   0,   0,   0,   0],\n",
       "[  0,   0, m_2,   0,   0,   0],\n",
       "[  0,   0,   0, m_2,   0,   0],\n",
       "[  0,   0,   0,   0, m_3,   0],\n",
       "[  0,   0,   0,   0,   0, m_3]])"
      ]
     },
     "execution_count": 165,
     "metadata": {},
     "output_type": "execute_result"
    }
   ],
   "source": [
    "(m_1, m_2, m_3) = symbols('m_1 m_2 m_3' , real = True)\n",
    "\n",
    "mass_xy = Matrix([[m_1, 0, 0, 0, 0, 0],\n",
    "                  [0, m_1, 0, 0, 0, 0],\n",
    "                  [0, 0, m_2, 0, 0, 0],\n",
    "                  [0, 0, 0, m_2, 0, 0],\n",
    "                  [0, 0, 0, 0, m_3, 0],\n",
    "                  [0, 0, 0, 0, 0, m_3]])\n",
    "mass_xy"
   ]
  },
  {
   "cell_type": "code",
   "execution_count": 166,
   "id": "352ebdad-bb9b-4b91-b9c4-10a04d08d721",
   "metadata": {},
   "outputs": [
    {
     "data": {
      "text/latex": [
       "$\\displaystyle \\left[\\begin{matrix}l^{2} \\left(m_{1} + 2 m_{2} \\cos{\\left(\\theta_{2}{\\left(t \\right)} \\right)} + 2 m_{2} + 2 m_{3} \\cos{\\left(\\theta_{2}{\\left(t \\right)} + \\theta_{3}{\\left(t \\right)} \\right)} + 2 m_{3} \\cos{\\left(\\theta_{2}{\\left(t \\right)} \\right)} + 2 m_{3} \\cos{\\left(\\theta_{3}{\\left(t \\right)} \\right)} + 3 m_{3}\\right) & l^{2} \\left(m_{2} \\cos{\\left(\\theta_{2}{\\left(t \\right)} \\right)} + m_{2} + m_{3} \\cos{\\left(\\theta_{2}{\\left(t \\right)} + \\theta_{3}{\\left(t \\right)} \\right)} + m_{3} \\cos{\\left(\\theta_{2}{\\left(t \\right)} \\right)} + 2 m_{3} \\cos{\\left(\\theta_{3}{\\left(t \\right)} \\right)} + 2 m_{3}\\right) & l^{2} m_{3} \\left(\\cos{\\left(\\theta_{2}{\\left(t \\right)} + \\theta_{3}{\\left(t \\right)} \\right)} + \\cos{\\left(\\theta_{3}{\\left(t \\right)} \\right)} + 1\\right)\\\\l^{2} \\left(m_{2} \\cos{\\left(\\theta_{2}{\\left(t \\right)} \\right)} + m_{2} + m_{3} \\cos{\\left(\\theta_{2}{\\left(t \\right)} + \\theta_{3}{\\left(t \\right)} \\right)} + m_{3} \\cos{\\left(\\theta_{2}{\\left(t \\right)} \\right)} + 2 m_{3} \\cos{\\left(\\theta_{3}{\\left(t \\right)} \\right)} + 2 m_{3}\\right) & l^{2} \\left(m_{2} + 2 m_{3} \\cos{\\left(\\theta_{3}{\\left(t \\right)} \\right)} + 2 m_{3}\\right) & l^{2} m_{3} \\left(\\cos{\\left(\\theta_{3}{\\left(t \\right)} \\right)} + 1\\right)\\\\l^{2} m_{3} \\left(\\cos{\\left(\\theta_{2}{\\left(t \\right)} + \\theta_{3}{\\left(t \\right)} \\right)} + \\cos{\\left(\\theta_{3}{\\left(t \\right)} \\right)} + 1\\right) & l^{2} m_{3} \\left(\\cos{\\left(\\theta_{3}{\\left(t \\right)} \\right)} + 1\\right) & l^{2} m_{3}\\end{matrix}\\right]$"
      ],
      "text/plain": [
       "Matrix([\n",
       "[l**2*(m_1 + 2*m_2*cos(theta_2(t)) + 2*m_2 + 2*m_3*cos(theta_2(t) + theta_3(t)) + 2*m_3*cos(theta_2(t)) + 2*m_3*cos(theta_3(t)) + 3*m_3), l**2*(m_2*cos(theta_2(t)) + m_2 + m_3*cos(theta_2(t) + theta_3(t)) + m_3*cos(theta_2(t)) + 2*m_3*cos(theta_3(t)) + 2*m_3), l**2*m_3*(cos(theta_2(t) + theta_3(t)) + cos(theta_3(t)) + 1)],\n",
       "[              l**2*(m_2*cos(theta_2(t)) + m_2 + m_3*cos(theta_2(t) + theta_3(t)) + m_3*cos(theta_2(t)) + 2*m_3*cos(theta_3(t)) + 2*m_3),                                                                                l**2*(m_2 + 2*m_3*cos(theta_3(t)) + 2*m_3),                                l**2*m_3*(cos(theta_3(t)) + 1)],\n",
       "[                                                                          l**2*m_3*(cos(theta_2(t) + theta_3(t)) + cos(theta_3(t)) + 1),                                                                                            l**2*m_3*(cos(theta_3(t)) + 1),                                                      l**2*m_3]])"
      ]
     },
     "execution_count": 166,
     "metadata": {},
     "output_type": "execute_result"
    }
   ],
   "source": [
    "M_jacobian = simplify(J.T * mass_xy * J)\n",
    "M_jacobian"
   ]
  },
  {
   "cell_type": "code",
   "execution_count": 167,
   "id": "42917d26-ad32-4c8f-bb3c-73ab1c843054",
   "metadata": {},
   "outputs": [
    {
     "data": {
      "text/latex": [
       "$\\displaystyle \\left[\\begin{matrix}- g l \\cos{\\left(\\theta_{1}{\\left(t \\right)} \\right)}\\\\0\\\\0\\end{matrix}\\right]$"
      ],
      "text/plain": [
       "Matrix([\n",
       "[-g*l*cos(theta_1(t))],\n",
       "[                   0],\n",
       "[                   0]])"
      ]
     },
     "execution_count": 167,
     "metadata": {},
     "output_type": "execute_result"
    }
   ],
   "source": [
    "g = symbols('g')\n",
    "\n",
    "FG_1 = J1.T * Matrix([[0], [-g]])\n",
    "FG_1"
   ]
  },
  {
   "cell_type": "code",
   "execution_count": 168,
   "id": "93cbfcf1-ee2e-4ebf-97d5-88c27c1cd1d7",
   "metadata": {},
   "outputs": [
    {
     "data": {
      "text/latex": [
       "$\\displaystyle \\left[\\begin{matrix}- g l \\left(\\cos{\\left(\\theta_{1}{\\left(t \\right)} + \\theta_{2}{\\left(t \\right)} \\right)} + \\cos{\\left(\\theta_{1}{\\left(t \\right)} \\right)}\\right)\\\\- g l \\cos{\\left(\\theta_{1}{\\left(t \\right)} + \\theta_{2}{\\left(t \\right)} \\right)}\\\\0\\end{matrix}\\right]$"
      ],
      "text/plain": [
       "Matrix([\n",
       "[-g*l*(cos(theta_1(t) + theta_2(t)) + cos(theta_1(t)))],\n",
       "[                    -g*l*cos(theta_1(t) + theta_2(t))],\n",
       "[                                                    0]])"
      ]
     },
     "execution_count": 168,
     "metadata": {},
     "output_type": "execute_result"
    }
   ],
   "source": [
    "FG_2 = J2.T * Matrix([[0], [-g]])\n",
    "FG_2"
   ]
  },
  {
   "cell_type": "code",
   "execution_count": 169,
   "id": "bcdda547-72ef-47e6-9557-a595b5918d8c",
   "metadata": {},
   "outputs": [
    {
     "data": {
      "text/latex": [
       "$\\displaystyle \\left[\\begin{matrix}- g l \\left(\\cos{\\left(\\theta_{1}{\\left(t \\right)} + \\theta_{2}{\\left(t \\right)} \\right)} + \\cos{\\left(\\theta_{1}{\\left(t \\right)} + \\theta_{2}{\\left(t \\right)} + \\theta_{3}{\\left(t \\right)} \\right)} + \\cos{\\left(\\theta_{1}{\\left(t \\right)} \\right)}\\right)\\\\- g l \\left(\\cos{\\left(\\theta_{1}{\\left(t \\right)} + \\theta_{2}{\\left(t \\right)} \\right)} + \\cos{\\left(\\theta_{1}{\\left(t \\right)} + \\theta_{2}{\\left(t \\right)} + \\theta_{3}{\\left(t \\right)} \\right)}\\right)\\\\- g l \\cos{\\left(\\theta_{1}{\\left(t \\right)} + \\theta_{2}{\\left(t \\right)} + \\theta_{3}{\\left(t \\right)} \\right)}\\end{matrix}\\right]$"
      ],
      "text/plain": [
       "Matrix([\n",
       "[-g*l*(cos(theta_1(t) + theta_2(t)) + cos(theta_1(t) + theta_2(t) + theta_3(t)) + cos(theta_1(t)))],\n",
       "[                  -g*l*(cos(theta_1(t) + theta_2(t)) + cos(theta_1(t) + theta_2(t) + theta_3(t)))],\n",
       "[                                                   -g*l*cos(theta_1(t) + theta_2(t) + theta_3(t))]])"
      ]
     },
     "execution_count": 169,
     "metadata": {},
     "output_type": "execute_result"
    }
   ],
   "source": [
    "FG_3 = J3.T * Matrix([[0], [-g]])\n",
    "FG_3"
   ]
  },
  {
   "cell_type": "code",
   "execution_count": 170,
   "id": "7d4319b4-7282-423c-8497-5c626bd37745",
   "metadata": {},
   "outputs": [
    {
     "data": {
      "text/latex": [
       "$\\displaystyle \\left[\\begin{matrix}- g l \\left(\\cos{\\left(\\theta_{1}{\\left(t \\right)} + \\theta_{2}{\\left(t \\right)} \\right)} + \\cos{\\left(\\theta_{1}{\\left(t \\right)} \\right)}\\right) - g l \\left(\\cos{\\left(\\theta_{1}{\\left(t \\right)} + \\theta_{2}{\\left(t \\right)} \\right)} + \\cos{\\left(\\theta_{1}{\\left(t \\right)} + \\theta_{2}{\\left(t \\right)} + \\theta_{3}{\\left(t \\right)} \\right)} + \\cos{\\left(\\theta_{1}{\\left(t \\right)} \\right)}\\right) - g l \\cos{\\left(\\theta_{1}{\\left(t \\right)} \\right)}\\\\- g l \\left(\\cos{\\left(\\theta_{1}{\\left(t \\right)} + \\theta_{2}{\\left(t \\right)} \\right)} + \\cos{\\left(\\theta_{1}{\\left(t \\right)} + \\theta_{2}{\\left(t \\right)} + \\theta_{3}{\\left(t \\right)} \\right)}\\right) - g l \\cos{\\left(\\theta_{1}{\\left(t \\right)} + \\theta_{2}{\\left(t \\right)} \\right)}\\\\- g l \\cos{\\left(\\theta_{1}{\\left(t \\right)} + \\theta_{2}{\\left(t \\right)} + \\theta_{3}{\\left(t \\right)} \\right)}\\end{matrix}\\right]$"
      ],
      "text/plain": [
       "Matrix([\n",
       "[-g*l*(cos(theta_1(t) + theta_2(t)) + cos(theta_1(t))) - g*l*(cos(theta_1(t) + theta_2(t)) + cos(theta_1(t) + theta_2(t) + theta_3(t)) + cos(theta_1(t))) - g*l*cos(theta_1(t))],\n",
       "[                                                            -g*l*(cos(theta_1(t) + theta_2(t)) + cos(theta_1(t) + theta_2(t) + theta_3(t))) - g*l*cos(theta_1(t) + theta_2(t))],\n",
       "[                                                                                                                                -g*l*cos(theta_1(t) + theta_2(t) + theta_3(t))]])"
      ]
     },
     "execution_count": 170,
     "metadata": {},
     "output_type": "execute_result"
    }
   ],
   "source": [
    "G = FG_1 + FG_2 + FG_3\n",
    "G"
   ]
  },
  {
   "cell_type": "code",
   "execution_count": 171,
   "id": "a9e39fa0-ef3b-42b7-bc2c-ac9b32367360",
   "metadata": {},
   "outputs": [
    {
     "data": {
      "text/latex": [
       "$\\displaystyle \\left[\\begin{matrix}l^{2} \\left(m_{1} + 4 m_{2} + 9 m_{3}\\right) & l^{2} \\cdot \\left(2 m_{2} + 6 m_{3}\\right) & 3 l^{2} m_{3}\\\\l^{2} \\cdot \\left(2 m_{2} + 6 m_{3}\\right) & l^{2} \\left(m_{2} + 4 m_{3}\\right) & 2 l^{2} m_{3}\\\\3 l^{2} m_{3} & 2 l^{2} m_{3} & l^{2} m_{3}\\end{matrix}\\right]$"
      ],
      "text/plain": [
       "Matrix([\n",
       "[l**2*(m_1 + 4*m_2 + 9*m_3), l**2*(2*m_2 + 6*m_3), 3*l**2*m_3],\n",
       "[      l**2*(2*m_2 + 6*m_3),   l**2*(m_2 + 4*m_3), 2*l**2*m_3],\n",
       "[                3*l**2*m_3,           2*l**2*m_3,   l**2*m_3]])"
      ]
     },
     "execution_count": 171,
     "metadata": {},
     "output_type": "execute_result"
    }
   ],
   "source": [
    "M_jacobian_subs = M_jacobian.subs({theta_1: pi/2, theta_2: 0, theta_3: 0})\n",
    "M_jacobian_subs"
   ]
  },
  {
   "cell_type": "code",
   "execution_count": 172,
   "id": "477521fd-6ce1-4394-96fd-3688c1bbbb22",
   "metadata": {},
   "outputs": [
    {
     "data": {
      "text/latex": [
       "$\\displaystyle \\left[\\begin{matrix}0\\\\0\\\\0\\end{matrix}\\right]$"
      ],
      "text/plain": [
       "Matrix([\n",
       "[0],\n",
       "[0],\n",
       "[0]])"
      ]
     },
     "execution_count": 172,
     "metadata": {},
     "output_type": "execute_result"
    }
   ],
   "source": [
    "G_subs = G.subs({theta_1: pi/2, theta_2: 0, theta_3: 0})\n",
    "G_subs"
   ]
  },
  {
   "cell_type": "code",
   "execution_count": null,
   "id": "02182a51-75c3-4b7c-9a49-df12f1d58be5",
   "metadata": {},
   "outputs": [],
   "source": []
  }
 ],
 "metadata": {
  "kernelspec": {
   "display_name": "Python 3 (ipykernel)",
   "language": "python",
   "name": "python3"
  },
  "language_info": {
   "codemirror_mode": {
    "name": "ipython",
    "version": 3
   },
   "file_extension": ".py",
   "mimetype": "text/x-python",
   "name": "python",
   "nbconvert_exporter": "python",
   "pygments_lexer": "ipython3",
   "version": "3.10.13"
  }
 },
 "nbformat": 4,
 "nbformat_minor": 5
}
