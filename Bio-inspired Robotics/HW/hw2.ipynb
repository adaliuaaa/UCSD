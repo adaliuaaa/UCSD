{
 "cells": [
  {
   "cell_type": "markdown",
   "id": "cc8d18dc",
   "metadata": {},
   "source": [
    "## Rigid Body Dynamics"
   ]
  },
  {
   "cell_type": "code",
   "execution_count": 32,
   "id": "6489d638",
   "metadata": {},
   "outputs": [],
   "source": [
    "import numpy as np\n",
    "import sympy as sp\n",
    "from sympy import Matrix, diff\n",
    "import matplotlib as mpl\n",
    "import matplotlib.pyplot as plt\n",
    "from scipy.integrate import solve_ivp"
   ]
  },
  {
   "cell_type": "code",
   "execution_count": 33,
   "id": "12cd2cf7",
   "metadata": {},
   "outputs": [],
   "source": [
    "# Helper function to compute the cross-product matrix [v]_x\n",
    "def cross_matrix(v):\n",
    "    return np.array([[0, -v[2], v[1]],\n",
    "                     [v[2], 0, -v[0]],\n",
    "                     [-v[1], v[0], 0]])"
   ]
  },
  {
   "cell_type": "code",
   "execution_count": 34,
   "id": "16bd4d8e",
   "metadata": {},
   "outputs": [],
   "source": [
    "# Helper function to compute the vector from a cross-product matrix\n",
    "def uncross_matrix(m):\n",
    "    return np.array([m[2, 1], m[0, 2], m[1, 0]])"
   ]
  },
  {
   "cell_type": "code",
   "execution_count": 35,
   "id": "985df852",
   "metadata": {},
   "outputs": [],
   "source": [
    "# Dynamics function to compute the time derivative of angular velocity\n",
    "def omega_dot(t, omega, I_B):\n",
    "    cross_mat = cross_matrix(omega)\n",
    "    omega_dot = -np.linalg.inv(I_B) @ (cross_mat @ I_B @ omega)\n",
    "    return omega_dot"
   ]
  },
  {
   "cell_type": "code",
   "execution_count": 36,
   "id": "5fc35065",
   "metadata": {},
   "outputs": [],
   "source": [
    "# Moment of inertia matrix\n",
    "I_B = np.array([[10, 0, 0],\n",
    "               [0, 5, 0],\n",
    "               [0, 0, 1]])\n",
    "\n",
    "# Initial conditions\n",
    "w0_1 = np.array([0.9, 0.1, 0])\n",
    "w0_2 = np.array([0.1, 0.9, 0])\n",
    "\n",
    "# Time\n",
    "dt = 0.001\n",
    "t = np.linspace(0,10,int(10/dt))"
   ]
  },
  {
   "cell_type": "code",
   "execution_count": 37,
   "id": "39e69402-8e61-4c09-8387-da6bbcffedbf",
   "metadata": {},
   "outputs": [
    {
     "data": {
      "text/plain": [
       "  message: The solver successfully reached the end of the integration interval.\n",
       "  success: True\n",
       "   status: 0\n",
       "        t: [ 0.000e+00  1.000e-03 ...  9.999e+00  1.000e+01]\n",
       "        y: [[ 9.000e-01  9.000e-01 ...  9.011e-01  9.011e-01]\n",
       "            [ 1.000e-01  1.000e-01 ... -3.074e-02 -3.100e-02]\n",
       "            [ 0.000e+00  4.500e-04 ...  1.586e-01  1.585e-01]]\n",
       "      sol: None\n",
       " t_events: None\n",
       " y_events: None\n",
       "     nfev: 1028\n",
       "     njev: 0\n",
       "      nlu: 0"
      ]
     },
     "execution_count": 37,
     "metadata": {},
     "output_type": "execute_result"
    }
   ],
   "source": [
    "# Numerical integration of EoM solve for w\n",
    "sol_1 = solve_ivp(lambda t, y: omega_dot(t, y, I_B),\n",
    "                             [0, 10], w0_1, \n",
    "                             t_eval=t,\n",
    "                             rtol=1e-8, atol=1e-8)\n",
    "sol_2 = solve_ivp(lambda t, y: omega_dot(t, y, I_B),\n",
    "                             [0, 10], w0_2, \n",
    "                             t_eval=t,\n",
    "                             rtol=1e-8, atol=1e-8)\n",
    "sol_1"
   ]
  },
  {
   "cell_type": "code",
   "execution_count": 38,
   "id": "877ffa94",
   "metadata": {},
   "outputs": [],
   "source": [
    "# Plotting components of angular velocity versus time\n",
    "plt.figure()\n",
    "plt.subplot(2, 1, 1)\n",
    "plt.plot(sol_1.t, sol_1.y[0, :], label='components 1')\n",
    "plt.plot(sol_1.t, sol_1.y[1, :], label='components 2')\n",
    "plt.plot(sol_1.t, sol_1.y[2, :], label='components 3')\n",
    "plt.title('Angular Velocity Components - Case 1')\n",
    "plt.xlabel('Time (s)')\n",
    "plt.ylabel('Angular Velocity')\n",
    "plt.legend()\n",
    "\n",
    "plt.subplot(2, 1, 2)\n",
    "plt.plot(sol_2.t, sol_2.y[0, :], label='components 1')\n",
    "plt.plot(sol_2.t, sol_2.y[1, :], label='components 2')\n",
    "plt.plot(sol_2.t, sol_2.y[2, :], label='components 3')\n",
    "plt.title('Angular Velocity Components - Case 2')\n",
    "plt.legend()\n",
    "plt.xlabel('Time (s)')\n",
    "plt.ylabel('Angular Velocity')\n",
    "\n",
    "plt.tight_layout()\n",
    "plt.show()"
   ]
  },
  {
   "cell_type": "code",
   "execution_count": 39,
   "id": "7fa3c154",
   "metadata": {},
   "outputs": [],
   "source": [
    "# Calculate angular kinetic energy over time\n",
    "energy_1 = np.sum((sol_1.y.T @ I_B @ sol_1.y) / 2, axis=0)\n",
    "energy_2 = np.sum((sol_2.y.T @ I_B @ sol_2.y) / 2, axis=0)"
   ]
  },
  {
   "cell_type": "code",
   "execution_count": 40,
   "id": "40b9c363",
   "metadata": {},
   "outputs": [],
   "source": [
    "# Plotting angular kinetic energy versus time\n",
    "plt.figure(figsize=(8, 5))\n",
    "plt.plot(sol_1.t, energy_1, label='Case 1')\n",
    "plt.plot(sol_2.t, energy_2, label='Case 2')\n",
    "plt.title('Angular Kinetic Energy vs Time')\n",
    "plt.xlabel('Time (s)')\n",
    "plt.ylabel('Angular Kinetic Energy')\n",
    "plt.legend()\n",
    "plt.show()"
   ]
  },
  {
   "cell_type": "markdown",
   "id": "95da1738-0554-406d-a515-fcbe765f1799",
   "metadata": {},
   "source": [
    "## Problem 3"
   ]
  },
  {
   "cell_type": "code",
   "execution_count": 41,
   "id": "4c5a1605-f823-4025-84ad-30b5e38453ab",
   "metadata": {},
   "outputs": [],
   "source": [
    "# Define symbols\n",
    "theta3, theta2, theta1, t = sp.symbols('theta3 theta2 theta1 t', real=True)\n",
    "omega_x, omega_y, omega_z = sp.symbols('omega_x omega_y omega_z', real=True)\n",
    "\n",
    "# Make rotation angles functions of time so we can take derivatives\n",
    "theta3 = sp.Function('theta3', real=True)(t)\n",
    "theta2 = sp.Function('theta2', real=True)(t)\n",
    "theta1 = sp.Function('theta1', real=True)(t)"
   ]
  },
  {
   "cell_type": "code",
   "execution_count": 72,
   "id": "08ccd991-bba9-49d6-a161-b91038efbfee",
   "metadata": {},
   "outputs": [
    {
     "data": {
      "text/latex": [
       "$\\displaystyle \\left[\\begin{matrix}\\cos{\\left(\\theta_{2}{\\left(t \\right)} \\right)} \\cos{\\left(\\theta_{3}{\\left(t \\right)} \\right)} & \\sin{\\left(\\theta_{1}{\\left(t \\right)} \\right)} \\sin{\\left(\\theta_{2}{\\left(t \\right)} \\right)} \\cos{\\left(\\theta_{3}{\\left(t \\right)} \\right)} - \\sin{\\left(\\theta_{3}{\\left(t \\right)} \\right)} \\cos{\\left(\\theta_{1}{\\left(t \\right)} \\right)} & \\sin{\\left(\\theta_{1}{\\left(t \\right)} \\right)} \\sin{\\left(\\theta_{3}{\\left(t \\right)} \\right)} + \\sin{\\left(\\theta_{2}{\\left(t \\right)} \\right)} \\cos{\\left(\\theta_{1}{\\left(t \\right)} \\right)} \\cos{\\left(\\theta_{3}{\\left(t \\right)} \\right)}\\\\\\sin{\\left(\\theta_{3}{\\left(t \\right)} \\right)} \\cos{\\left(\\theta_{2}{\\left(t \\right)} \\right)} & \\sin{\\left(\\theta_{1}{\\left(t \\right)} \\right)} \\sin{\\left(\\theta_{2}{\\left(t \\right)} \\right)} \\sin{\\left(\\theta_{3}{\\left(t \\right)} \\right)} + \\cos{\\left(\\theta_{1}{\\left(t \\right)} \\right)} \\cos{\\left(\\theta_{3}{\\left(t \\right)} \\right)} & - \\sin{\\left(\\theta_{1}{\\left(t \\right)} \\right)} \\cos{\\left(\\theta_{3}{\\left(t \\right)} \\right)} + \\sin{\\left(\\theta_{2}{\\left(t \\right)} \\right)} \\sin{\\left(\\theta_{3}{\\left(t \\right)} \\right)} \\cos{\\left(\\theta_{1}{\\left(t \\right)} \\right)}\\\\- \\sin{\\left(\\theta_{2}{\\left(t \\right)} \\right)} & \\sin{\\left(\\theta_{1}{\\left(t \\right)} \\right)} \\cos{\\left(\\theta_{2}{\\left(t \\right)} \\right)} & \\cos{\\left(\\theta_{1}{\\left(t \\right)} \\right)} \\cos{\\left(\\theta_{2}{\\left(t \\right)} \\right)}\\end{matrix}\\right]$"
      ],
      "text/plain": [
       "Matrix([\n",
       "[cos(theta2(t))*cos(theta3(t)), sin(theta1(t))*sin(theta2(t))*cos(theta3(t)) - sin(theta3(t))*cos(theta1(t)),  sin(theta1(t))*sin(theta3(t)) + sin(theta2(t))*cos(theta1(t))*cos(theta3(t))],\n",
       "[sin(theta3(t))*cos(theta2(t)), sin(theta1(t))*sin(theta2(t))*sin(theta3(t)) + cos(theta1(t))*cos(theta3(t)), -sin(theta1(t))*cos(theta3(t)) + sin(theta2(t))*sin(theta3(t))*cos(theta1(t))],\n",
       "[              -sin(theta2(t)),                                                sin(theta1(t))*cos(theta2(t)),                                                 cos(theta1(t))*cos(theta2(t))]])"
      ]
     },
     "execution_count": 72,
     "metadata": {},
     "output_type": "execute_result"
    }
   ],
   "source": [
    "# Define the rotation matrices\n",
    "Rz_theta3 = sp.Matrix([\n",
    "    [sp.cos(theta3), -sp.sin(theta3), 0],\n",
    "    [sp.sin(theta3), sp.cos(theta3), 0],\n",
    "    [0, 0, 1]])\n",
    "\n",
    "Ry_theta2 = sp.Matrix([\n",
    "    [sp.cos(theta2), 0, sp.sin(theta2)],\n",
    "    [0, 1, 0],\n",
    "    [-sp.sin(theta2), 0, sp.cos(theta2)]])\n",
    "\n",
    "Rx_theta1 = sp.Matrix([\n",
    "    [1, 0, 0],\n",
    "    [0, sp.cos(theta1), -sp.sin(theta1)],\n",
    "    [0, sp.sin(theta1), sp.cos(theta1)]])\n",
    "\n",
    "# Calculate the overall rotation matrix R\n",
    "R = sp.simplify(Rz_theta3 @ Ry_theta2 @ Rx_theta1)\n",
    "R"
   ]
  },
  {
   "cell_type": "code",
   "execution_count": null,
   "id": "6b179a1e-99e2-49ac-9301-0548148dc875",
   "metadata": {},
   "outputs": [],
   "source": [
    "theta = sp.Matrix([[theta1],[theta2],[theta3]])\n",
    "theta_dot = sp.diff(theta,t)\n",
    "theta_dot"
   ]
  },
  {
   "cell_type": "code",
   "execution_count": 80,
   "id": "0c8cd7e6-a9a6-4b8c-90aa-811f575ce5b8",
   "metadata": {},
   "outputs": [
    {
     "data": {
      "text/latex": [
       "$\\displaystyle \\left[\\begin{matrix}1 & \\sin{\\left(\\theta_{1}{\\left(t \\right)} \\right)} \\tan{\\left(\\theta_{2}{\\left(t \\right)} \\right)} & \\cos{\\left(\\theta_{1}{\\left(t \\right)} \\right)} \\tan{\\left(\\theta_{2}{\\left(t \\right)} \\right)}\\\\0 & \\cos{\\left(\\theta_{1}{\\left(t \\right)} \\right)} & - \\sin{\\left(\\theta_{1}{\\left(t \\right)} \\right)}\\\\0 & \\frac{\\sin{\\left(\\theta_{1}{\\left(t \\right)} \\right)}}{\\cos{\\left(\\theta_{2}{\\left(t \\right)} \\right)}} & \\frac{\\cos{\\left(\\theta_{1}{\\left(t \\right)} \\right)}}{\\cos{\\left(\\theta_{2}{\\left(t \\right)} \\right)}}\\end{matrix}\\right]$"
      ],
      "text/plain": [
       "Matrix([\n",
       "[1, sin(theta1(t))*tan(theta2(t)), cos(theta1(t))*tan(theta2(t))],\n",
       "[0,                cos(theta1(t)),               -sin(theta1(t))],\n",
       "[0, sin(theta1(t))/cos(theta2(t)), cos(theta1(t))/cos(theta2(t))]])"
      ]
     },
     "execution_count": 80,
     "metadata": {},
     "output_type": "execute_result"
    }
   ],
   "source": [
    "R_dot = sp.diff(R,t)\n",
    "omega = sp.simplify(R.T @ R_dot)\n",
    "omega_x = omega[2,1]\n",
    "omega_y = omega[0,2]\n",
    "omega_z = -omega[0,1]\n",
    "\n",
    "w11 = sp.diff(omega_x, sp.diff(theta1, t))\n",
    "w12 = sp.diff(omega_x, sp.diff(theta2, t))\n",
    "w13 = sp.diff(omega_x, sp.diff(theta3, t))\n",
    "\n",
    "w21 = sp.diff(omega_y, sp.diff(theta1, t))\n",
    "w22 = sp.diff(omega_y, sp.diff(theta2, t))\n",
    "w23 = sp.diff(omega_y, sp.diff(theta3, t))\n",
    "\n",
    "w31 = sp.diff(omega_z, sp.diff(theta1, t))\n",
    "w32 = sp.diff(omega_z, sp.diff(theta2, t))\n",
    "w33 = sp.diff(omega_z, sp.diff(theta3, t))\n",
    "\n",
    "W = sp.Matrix([\n",
    "    [w11, w12, w13],\n",
    "    [w21, w22, w23],\n",
    "    [w31, w32, w33]])\n",
    "\n",
    "W_new = sp.Matrix.inv(W)\n",
    "W_new = sp.simplify(W_new)\n",
    "W_new"
   ]
  },
  {
   "cell_type": "code",
   "execution_count": null,
   "id": "a0d6590f-eab0-4bdc-b3f8-6ec1b062a147",
   "metadata": {},
   "outputs": [],
   "source": []
  },
  {
   "cell_type": "code",
   "execution_count": null,
   "id": "72046c8a-bd8d-45a4-88cf-fe842951af77",
   "metadata": {},
   "outputs": [],
   "source": []
  }
 ],
 "metadata": {
  "kernelspec": {
   "display_name": "Python 3 (ipykernel)",
   "language": "python",
   "name": "python3"
  },
  "language_info": {
   "codemirror_mode": {
    "name": "ipython",
    "version": 3
   },
   "file_extension": ".py",
   "mimetype": "text/x-python",
   "name": "python",
   "nbconvert_exporter": "python",
   "pygments_lexer": "ipython3",
   "version": "3.10.13"
  }
 },
 "nbformat": 4,
 "nbformat_minor": 5
}
