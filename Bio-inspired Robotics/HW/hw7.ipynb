{
 "cells": [
  {
   "cell_type": "code",
   "execution_count": 1,
   "id": "43a5c498-ee64-437e-b8e8-a3ce9ae664f8",
   "metadata": {},
   "outputs": [],
   "source": [
    "# symbolic computation tools\n",
    "import sympy as sp\n",
    "from sympy import symbols, pprint, Eq, solve, sqrt\n",
    "from sympy import sin, cos, asin, acos, pi, lambdify\n",
    "from sympy import Matrix, simplify, Function, diff, Derivative, nsimplify\n",
    "\n",
    "from scipy.integrate import solve_ivp\n",
    "\n",
    "import numpy as np\n",
    "\n",
    "from IPython import display # for the animation\n",
    "\n",
    "import matplotlib as mpl\n",
    "mpl.use('Qt5Agg')\n",
    "\n",
    "import matplotlib.patches as mpatches\n",
    "import matplotlib.pyplot as plt\n",
    "plt.ion()\n",
    "\n",
    "import warnings\n",
    "warnings.filterwarnings('ignore')"
   ]
  },
  {
   "cell_type": "code",
   "execution_count": 2,
   "id": "d7dde99b-62bc-437c-841c-e8224868c3d7",
   "metadata": {},
   "outputs": [],
   "source": [
    "def T(theta, x, y):\n",
    "    return Matrix([[cos(theta), -sin(theta), x], \n",
    "                   [sin(theta), cos(theta), y],\n",
    "                   [0, 0, 1]])\n",
    "\n",
    "def sym_to_np(T):\n",
    "    return np.array(T).astype(np.float64)"
   ]
  },
  {
   "cell_type": "markdown",
   "id": "a299ae04-67ee-45cf-9e38-27c3e29bba0e",
   "metadata": {},
   "source": [
    "# Simulating a multi-link system"
   ]
  },
  {
   "cell_type": "code",
   "execution_count": 3,
   "id": "c0a701f8-d12e-419b-b598-0fa7d666f643",
   "metadata": {},
   "outputs": [],
   "source": [
    "(t, theta_1, theta_2, theta_3, l_1, l_2, l_3, m_1, m_2, m_3, g) = symbols('t, theta_1 theta_2 theta_3 l_1 l_2 l_3 m_1 m_2 m_3 g', real = True)\n",
    "\n",
    "theta_1 = Function('theta_1', real=True)(t)\n",
    "theta_2 = Function('theta_2', real=True)(t)\n",
    "theta_3 = Function('theta_3', real=True)(t)"
   ]
  },
  {
   "cell_type": "code",
   "execution_count": 4,
   "id": "bbbbccd6-a126-42c2-bff7-05e4ef8bdd6c",
   "metadata": {},
   "outputs": [],
   "source": [
    "T_01 = T(theta_1, l_1, 0)\n",
    "T_12 = T(theta_2, l_2, 0)\n",
    "T_23 = T(theta_3, l_3, 0)"
   ]
  },
  {
   "cell_type": "code",
   "execution_count": 5,
   "id": "1cac8f99-ab08-480b-847c-c2bf5cf1381d",
   "metadata": {},
   "outputs": [],
   "source": [
    "FK1 = (T_01 * Matrix([[l_1], [0], [1]]))[:-1,0]\n",
    "FK2 = simplify((T_01 * T_12 * Matrix([[l_2], [0], [1]]))[:-1,0])\n",
    "FK3 = simplify((T_01 * T_12 * T_23 * Matrix([[l_3], [0], [1]]))[:-1,0])"
   ]
  },
  {
   "cell_type": "code",
   "execution_count": 6,
   "id": "e5a0f24a-910b-4b5a-a047-2a7d8f99e1ea",
   "metadata": {},
   "outputs": [],
   "source": [
    "J1 = FK1.jacobian([theta_1, theta_2, theta_3])\n",
    "J2 = simplify(FK2.jacobian([theta_1, theta_2, theta_3]))\n",
    "J3 = simplify(FK3.jacobian([theta_1, theta_2, theta_3]))\n",
    "J = Matrix([[J1], [J2], [J3]])"
   ]
  },
  {
   "cell_type": "code",
   "execution_count": 7,
   "id": "c57118f6-a127-4352-b25d-c258d896d92f",
   "metadata": {},
   "outputs": [
    {
     "data": {
      "text/latex": [
       "$\\displaystyle \\left[\\begin{matrix}l_{1}^{2} m_{1} + 2 l_{2}^{2} m_{2} \\cos{\\left(\\theta_{2}{\\left(t \\right)} \\right)} + 2 l_{2}^{2} m_{2} + l_{2}^{2} m_{3} + 2 l_{2} l_{3} m_{3} \\cos{\\left(\\theta_{2}{\\left(t \\right)} + \\theta_{3}{\\left(t \\right)} \\right)} + 2 l_{2} l_{3} m_{3} \\cos{\\left(\\theta_{2}{\\left(t \\right)} \\right)} + 2 l_{3}^{2} m_{3} \\cos{\\left(\\theta_{3}{\\left(t \\right)} \\right)} + 2 l_{3}^{2} m_{3} & l_{2}^{2} m_{2} \\cos{\\left(\\theta_{2}{\\left(t \\right)} \\right)} + l_{2}^{2} m_{2} + l_{2} l_{3} m_{3} \\cos{\\left(\\theta_{2}{\\left(t \\right)} + \\theta_{3}{\\left(t \\right)} \\right)} + l_{2} l_{3} m_{3} \\cos{\\left(\\theta_{2}{\\left(t \\right)} \\right)} + 2 l_{3}^{2} m_{3} \\cos{\\left(\\theta_{3}{\\left(t \\right)} \\right)} + 2 l_{3}^{2} m_{3} & l_{3} m_{3} \\left(l_{2} \\cos{\\left(\\theta_{2}{\\left(t \\right)} + \\theta_{3}{\\left(t \\right)} \\right)} + l_{3} \\cos{\\left(\\theta_{3}{\\left(t \\right)} \\right)} + l_{3}\\right)\\\\l_{2}^{2} m_{2} \\cos{\\left(\\theta_{2}{\\left(t \\right)} \\right)} + l_{2}^{2} m_{2} + l_{2} l_{3} m_{3} \\cos{\\left(\\theta_{2}{\\left(t \\right)} + \\theta_{3}{\\left(t \\right)} \\right)} + l_{2} l_{3} m_{3} \\cos{\\left(\\theta_{2}{\\left(t \\right)} \\right)} + 2 l_{3}^{2} m_{3} \\cos{\\left(\\theta_{3}{\\left(t \\right)} \\right)} + 2 l_{3}^{2} m_{3} & l_{2}^{2} m_{2} + 2 l_{3}^{2} m_{3} \\cos{\\left(\\theta_{3}{\\left(t \\right)} \\right)} + 2 l_{3}^{2} m_{3} & l_{3}^{2} m_{3} \\left(\\cos{\\left(\\theta_{3}{\\left(t \\right)} \\right)} + 1\\right)\\\\l_{3} m_{3} \\left(l_{2} \\cos{\\left(\\theta_{2}{\\left(t \\right)} + \\theta_{3}{\\left(t \\right)} \\right)} + l_{3} \\cos{\\left(\\theta_{3}{\\left(t \\right)} \\right)} + l_{3}\\right) & l_{3}^{2} m_{3} \\left(\\cos{\\left(\\theta_{3}{\\left(t \\right)} \\right)} + 1\\right) & l_{3}^{2} m_{3}\\end{matrix}\\right]$"
      ],
      "text/plain": [
       "Matrix([\n",
       "[l_1**2*m_1 + 2*l_2**2*m_2*cos(theta_2(t)) + 2*l_2**2*m_2 + l_2**2*m_3 + 2*l_2*l_3*m_3*cos(theta_2(t) + theta_3(t)) + 2*l_2*l_3*m_3*cos(theta_2(t)) + 2*l_3**2*m_3*cos(theta_3(t)) + 2*l_3**2*m_3, l_2**2*m_2*cos(theta_2(t)) + l_2**2*m_2 + l_2*l_3*m_3*cos(theta_2(t) + theta_3(t)) + l_2*l_3*m_3*cos(theta_2(t)) + 2*l_3**2*m_3*cos(theta_3(t)) + 2*l_3**2*m_3, l_3*m_3*(l_2*cos(theta_2(t) + theta_3(t)) + l_3*cos(theta_3(t)) + l_3)],\n",
       "[                                  l_2**2*m_2*cos(theta_2(t)) + l_2**2*m_2 + l_2*l_3*m_3*cos(theta_2(t) + theta_3(t)) + l_2*l_3*m_3*cos(theta_2(t)) + 2*l_3**2*m_3*cos(theta_3(t)) + 2*l_3**2*m_3,                                                                                                       l_2**2*m_2 + 2*l_3**2*m_3*cos(theta_3(t)) + 2*l_3**2*m_3,                                       l_3**2*m_3*(cos(theta_3(t)) + 1)],\n",
       "[                                                                                                                          l_3*m_3*(l_2*cos(theta_2(t) + theta_3(t)) + l_3*cos(theta_3(t)) + l_3),                                                                                                                               l_3**2*m_3*(cos(theta_3(t)) + 1),                                                             l_3**2*m_3]])"
      ]
     },
     "execution_count": 7,
     "metadata": {},
     "output_type": "execute_result"
    }
   ],
   "source": [
    "mass_xy = Matrix([[m_1, 0, 0, 0, 0, 0],\n",
    "                  [0, m_1, 0, 0, 0, 0],\n",
    "                  [0, 0, m_2, 0, 0, 0],\n",
    "                  [0, 0, 0, m_2, 0, 0],\n",
    "                  [0, 0, 0, 0, m_3, 0],\n",
    "                  [0, 0, 0, 0, 0, m_3]])\n",
    "\n",
    "M_jacobian = simplify(J.T * mass_xy * J)\n",
    "M_jacobian"
   ]
  },
  {
   "cell_type": "code",
   "execution_count": 8,
   "id": "08bdb9da-954b-4bcb-b67a-1cfae322551b",
   "metadata": {},
   "outputs": [],
   "source": [
    "v1 = diff(FK1,t)\n",
    "v2 = diff(FK2,t)\n",
    "v3 = diff(FK3,t)\n",
    "\n",
    "KE1 = (1/2)*m_1*(v1.T * v1)[0]\n",
    "KE2 = (1/2)*m_2*(v2.T * v2)[0]\n",
    "KE3 = (1/2)*m_3*(v3.T * v3)[0]"
   ]
  },
  {
   "cell_type": "code",
   "execution_count": 9,
   "id": "60fd9a3a-7276-42ad-8aff-fcf3653dd345",
   "metadata": {},
   "outputs": [],
   "source": [
    "T = KE1 + KE2 + KE3\n",
    "V = m_1*g*FK1[1] + m_2*g*FK2[1] + m_3*g*FK3[1]\n",
    "L = T - V\n",
    "L = simplify(L)"
   ]
  },
  {
   "cell_type": "code",
   "execution_count": 10,
   "id": "937837df-f563-4846-b971-d94ea1910074",
   "metadata": {},
   "outputs": [],
   "source": [
    "EOM_theta_1 = diff(diff(L, Derivative(theta_1, t)), t) - diff(L, theta_1)\n",
    "EOM_theta_1 = nsimplify(EOM_theta_1)\n",
    "\n",
    "EOM_theta_2 = diff(diff(L, Derivative(theta_2, t)), t) - diff(L, theta_2)\n",
    "EOM_theta_2 = nsimplify(EOM_theta_2)\n",
    "\n",
    "EOM_theta_3 = diff(diff(L, Derivative(theta_3, t)), t) - diff(L, theta_3)\n",
    "EOM_theta_3 = nsimplify(EOM_theta_3)"
   ]
  },
  {
   "cell_type": "code",
   "execution_count": 11,
   "id": "525a1ac3-13e1-4c04-8daf-a9a424334c13",
   "metadata": {},
   "outputs": [
    {
     "data": {
      "text/latex": [
       "$\\displaystyle \\left[\\begin{matrix}l_{1}^{2} m_{1} + 2 l_{2}^{2} m_{2} \\cos{\\left(\\theta_{2}{\\left(t \\right)} \\right)} + 2 l_{2}^{2} m_{2} + l_{2}^{2} m_{3} + 2 l_{2} l_{3} m_{3} \\cos{\\left(\\theta_{2}{\\left(t \\right)} + \\theta_{3}{\\left(t \\right)} \\right)} + 2 l_{2} l_{3} m_{3} \\cos{\\left(\\theta_{2}{\\left(t \\right)} \\right)} + 2 l_{3}^{2} m_{3} \\cos{\\left(\\theta_{3}{\\left(t \\right)} \\right)} + 2 l_{3}^{2} m_{3} & l_{2}^{2} m_{2} \\cos{\\left(\\theta_{2}{\\left(t \\right)} \\right)} + l_{2}^{2} m_{2} + l_{2} l_{3} m_{3} \\cos{\\left(\\theta_{2}{\\left(t \\right)} + \\theta_{3}{\\left(t \\right)} \\right)} + l_{2} l_{3} m_{3} \\cos{\\left(\\theta_{2}{\\left(t \\right)} \\right)} + 2 l_{3}^{2} m_{3} \\cos{\\left(\\theta_{3}{\\left(t \\right)} \\right)} + 2 l_{3}^{2} m_{3} & l_{3} m_{3} \\left(l_{2} \\cos{\\left(\\theta_{2}{\\left(t \\right)} + \\theta_{3}{\\left(t \\right)} \\right)} + l_{3} \\cos{\\left(\\theta_{3}{\\left(t \\right)} \\right)} + l_{3}\\right)\\\\l_{2}^{2} m_{2} \\cos{\\left(\\theta_{2}{\\left(t \\right)} \\right)} + l_{2}^{2} m_{2} + l_{2} l_{3} m_{3} \\cos{\\left(\\theta_{2}{\\left(t \\right)} + \\theta_{3}{\\left(t \\right)} \\right)} + l_{2} l_{3} m_{3} \\cos{\\left(\\theta_{2}{\\left(t \\right)} \\right)} + 2 l_{3}^{2} m_{3} \\cos{\\left(\\theta_{3}{\\left(t \\right)} \\right)} + 2 l_{3}^{2} m_{3} & l_{2}^{2} m_{2} + 2 l_{3}^{2} m_{3} \\cos{\\left(\\theta_{3}{\\left(t \\right)} \\right)} + 2 l_{3}^{2} m_{3} & l_{3}^{2} m_{3} \\left(\\cos{\\left(\\theta_{3}{\\left(t \\right)} \\right)} + 1\\right)\\\\l_{3} m_{3} \\left(l_{2} \\cos{\\left(\\theta_{2}{\\left(t \\right)} + \\theta_{3}{\\left(t \\right)} \\right)} + l_{3} \\cos{\\left(\\theta_{3}{\\left(t \\right)} \\right)} + l_{3}\\right) & l_{3}^{2} m_{3} \\left(\\cos{\\left(\\theta_{3}{\\left(t \\right)} \\right)} + 1\\right) & l_{3}^{2} m_{3}\\end{matrix}\\right]$"
      ],
      "text/plain": [
       "Matrix([\n",
       "[l_1**2*m_1 + 2*l_2**2*m_2*cos(theta_2(t)) + 2*l_2**2*m_2 + l_2**2*m_3 + 2*l_2*l_3*m_3*cos(theta_2(t) + theta_3(t)) + 2*l_2*l_3*m_3*cos(theta_2(t)) + 2*l_3**2*m_3*cos(theta_3(t)) + 2*l_3**2*m_3, l_2**2*m_2*cos(theta_2(t)) + l_2**2*m_2 + l_2*l_3*m_3*cos(theta_2(t) + theta_3(t)) + l_2*l_3*m_3*cos(theta_2(t)) + 2*l_3**2*m_3*cos(theta_3(t)) + 2*l_3**2*m_3, l_3*m_3*(l_2*cos(theta_2(t) + theta_3(t)) + l_3*cos(theta_3(t)) + l_3)],\n",
       "[                                  l_2**2*m_2*cos(theta_2(t)) + l_2**2*m_2 + l_2*l_3*m_3*cos(theta_2(t) + theta_3(t)) + l_2*l_3*m_3*cos(theta_2(t)) + 2*l_3**2*m_3*cos(theta_3(t)) + 2*l_3**2*m_3,                                                                                                       l_2**2*m_2 + 2*l_3**2*m_3*cos(theta_3(t)) + 2*l_3**2*m_3,                                       l_3**2*m_3*(cos(theta_3(t)) + 1)],\n",
       "[                                                                                                                          l_3*m_3*(l_2*cos(theta_2(t) + theta_3(t)) + l_3*cos(theta_3(t)) + l_3),                                                                                                                               l_3**2*m_3*(cos(theta_3(t)) + 1),                                                             l_3**2*m_3]])"
      ]
     },
     "execution_count": 11,
     "metadata": {},
     "output_type": "execute_result"
    }
   ],
   "source": [
    "mass = sp.symarray('',(3,3))\n",
    "\n",
    "mass[0,0] = EOM_theta_1.expand().coeff(Derivative(theta_1,t,t))\n",
    "mass[0,1] = EOM_theta_1.expand().coeff(Derivative(theta_2,t,t))\n",
    "mass[0,2] = EOM_theta_1.expand().coeff(Derivative(theta_3,t,t))\n",
    "\n",
    "mass[1,0] = EOM_theta_2.expand().coeff(Derivative(theta_1,t,t))\n",
    "mass[1,1] = EOM_theta_2.expand().coeff(Derivative(theta_2,t,t))\n",
    "mass[1,2] = EOM_theta_2.expand().coeff(Derivative(theta_3,t,t))\n",
    "\n",
    "mass[2,0] = EOM_theta_3.expand().coeff(Derivative(theta_1,t,t))\n",
    "mass[2,1] = EOM_theta_3.expand().coeff(Derivative(theta_2,t,t))\n",
    "mass[2,2] = EOM_theta_3.expand().coeff(Derivative(theta_3,t,t))\n",
    "\n",
    "mass = Matrix(mass)\n",
    "mass = simplify(mass)\n",
    "mass"
   ]
  },
  {
   "cell_type": "code",
   "execution_count": 12,
   "id": "15765269-2517-4439-a3ac-3365ffc54e65",
   "metadata": {},
   "outputs": [
    {
     "data": {
      "text/plain": [
       "True"
      ]
     },
     "execution_count": 12,
     "metadata": {},
     "output_type": "execute_result"
    }
   ],
   "source": [
    "M_jacobian == mass"
   ]
  },
  {
   "cell_type": "code",
   "execution_count": 13,
   "id": "a129a4ce-4f7c-4bca-903d-975db7310b7d",
   "metadata": {},
   "outputs": [],
   "source": [
    "accel_state_vector = Matrix([[Derivative(theta_1, t, t)], [Derivative(theta_2, t, t)], [Derivative(theta_3, t, t)]])\n",
    "\n",
    "EOM1_leftover = simplify(EOM_theta_1.expand() - (mass[0,:]*accel_state_vector)[0])\n",
    "EOM2_leftover = simplify(EOM_theta_2.expand() - (mass[1,:]*accel_state_vector)[0])\n",
    "EOM3_leftover = simplify(EOM_theta_3.expand() - (mass[2,:]*accel_state_vector)[0])\n",
    "# EOM1_leftover"
   ]
  },
  {
   "cell_type": "code",
   "execution_count": 14,
   "id": "1a297f95-740c-4e1f-879c-8bc0dce1645d",
   "metadata": {},
   "outputs": [],
   "source": [
    "G_1 = EOM1_leftover.subs([(Derivative(theta_1, t), 0), (Derivative(theta_2, t), 0), (Derivative(theta_3, t), 0)])\n",
    "G_2 = EOM2_leftover.subs([(Derivative(theta_1, t), 0), (Derivative(theta_2, t), 0), (Derivative(theta_3, t), 0)])\n",
    "G_3 = EOM3_leftover.subs([(Derivative(theta_1, t), 0), (Derivative(theta_2, t), 0), (Derivative(theta_3, t), 0)])"
   ]
  },
  {
   "cell_type": "code",
   "execution_count": 15,
   "id": "0b29c2a0-e477-497f-bc6d-b9ff70b1760c",
   "metadata": {},
   "outputs": [],
   "source": [
    "C_1 = EOM1_leftover - G_1\n",
    "C_2 = simplify(EOM2_leftover - G_2)\n",
    "C_3 = simplify(EOM3_leftover - G_3)"
   ]
  },
  {
   "cell_type": "code",
   "execution_count": 16,
   "id": "b56070b3-db1f-4709-960f-f4ccef9effbd",
   "metadata": {},
   "outputs": [
    {
     "data": {
      "text/latex": [
       "$\\displaystyle \\left[\\begin{matrix}0\\\\0\\\\0\\end{matrix}\\right]$"
      ],
      "text/plain": [
       "Matrix([\n",
       "[0],\n",
       "[0],\n",
       "[0]])"
      ]
     },
     "execution_count": 16,
     "metadata": {},
     "output_type": "execute_result"
    }
   ],
   "source": [
    "simplify(Matrix([[EOM_theta_1], [EOM_theta_2], [EOM_theta_3]]) - (mass*accel_state_vector + Matrix([[C_1], [C_2], [C_3]]) + Matrix([[G_1], [G_2], [G_3]])))"
   ]
  },
  {
   "cell_type": "code",
   "execution_count": 17,
   "id": "65a7eedd-98d2-497f-81a3-d4409c875bfc",
   "metadata": {
    "scrolled": true
   },
   "outputs": [],
   "source": [
    "M = lambdify((theta_1, theta_2, theta_3, \n",
    "              Derivative(theta_1, t), Derivative(theta_2, t), Derivative(theta_3, t), \n",
    "              l_1, l_2, l_3, m_1, m_2, m_3), mass)\n",
    "EOM = lambdify((theta_1, theta_2, theta_3, \n",
    "                Derivative(theta_1, t), Derivative(theta_2, t), Derivative(theta_3, t), \n",
    "                l_1, l_2, l_3, m_1, m_2, m_3), \n",
    "               Matrix([[EOM1_leftover.subs([(g, 9.8)])], [EOM2_leftover.subs([(g, 9.8)])], [EOM3_leftover.subs([(g, 9.8)])]]))"
   ]
  },
  {
   "cell_type": "code",
   "execution_count": 18,
   "id": "23ac94de-0fd3-4932-999c-3f7c05686fd7",
   "metadata": {},
   "outputs": [],
   "source": [
    "def dynamics(t, state, l_1, l_2, l_3,  m_1, m_2, m_3):\n",
    "    theta_1, theta_2, theta_3, dtheta_1, dtheta_2, dtheta_3 = state\n",
    "    \n",
    "    dydt = np.linalg.inv(M(theta_1, theta_2, theta_3, dtheta_1, dtheta_2, dtheta_3, l_1, l_2, l_3, m_1, m_2, m_3))@(-EOM(theta_1, theta_2, theta_3, dtheta_1, dtheta_2, dtheta_3, l_1, l_2, l_3, m_1, m_2, m_3))\n",
    "\n",
    "    return [dtheta_1, dtheta_2, dtheta_3, dydt[0][0], dydt[1][0], dydt[2][0]]"
   ]
  },
  {
   "cell_type": "code",
   "execution_count": 19,
   "id": "94a7d689-6aeb-451b-9545-0e4c8c1e9851",
   "metadata": {},
   "outputs": [
    {
     "data": {
      "text/plain": [
       "Text(0.5, 0, 'time')"
      ]
     },
     "execution_count": 19,
     "metadata": {},
     "output_type": "execute_result"
    }
   ],
   "source": [
    "l1 = 1\n",
    "l2 = 1\n",
    "l3 = 1.5\n",
    "m1 = 1\n",
    "m2 = 1\n",
    "m3 = 2\n",
    "\n",
    "t_end = 10\n",
    "dt = 0.001\n",
    "time = np.linspace(0,t_end,int(t_end/dt))\n",
    "\n",
    "sol = solve_ivp(lambda t, y: dynamics(t, y, l1, l2, l3, m1, m2, m3),\n",
    "                [0,t_end], [np.pi/2, 0.0, 0.0, 0.0, 0.0, 0.0], \n",
    "                t_eval = time, \n",
    "                rtol=1e-8, atol = 1e-8)\n",
    "\n",
    "plt.clf()\n",
    "plt.plot(sol.t, sol.y[0,:], label='theta_1')\n",
    "plt.plot(sol.t, sol.y[1,:], label='theta_2')\n",
    "plt.plot(sol.t, sol.y[2,:], label='theta_3')\n",
    "plt.legend()\n",
    "plt.ylabel('joint angle')\n",
    "plt.xlabel('time')"
   ]
  },
  {
   "cell_type": "code",
   "execution_count": null,
   "id": "1349cf9c-f315-4f86-8560-eeea2b4cc8ca",
   "metadata": {},
   "outputs": [],
   "source": [
    "skip = 10\n",
    "\n",
    "theta1 = sol.y[0,0:-1:skip]\n",
    "theta2 = sol.y[1,0:-1:skip]\n",
    "theta3 = sol.y[2,0:-1:skip]\n",
    "\n",
    "for kk, (q1, q2, q3) in enumerate(zip(theta1, theta2, theta3)):\n",
    "    plt.cla()\n",
    "    # print(q1)\n",
    "    \n",
    "    plt.plot([0, l1*np.cos(q1)], [0, l1*np.sin(q1)], 'ko-')\n",
    "    \n",
    "    plt.plot([l1*np.cos(q1), l1*np.cos(q1) + l2*np.cos(q1 + q2)], [l1*np.sin(q1), l1*np.sin(q1)  + l2*np.sin(q1 + q2)], 'ko-')\n",
    "\n",
    "    plt.plot([l1*np.cos(q1) + l2*np.cos(q1 + q2), l1*np.cos(q1) + l2*np.cos(q1 + q2) + l3*np.cos(q1 + q2 + q3)], \n",
    "              [l1*np.sin(q1)  + l2*np.sin(q1 + q2), l1*np.sin(q1) + l2*np.sin(q1 + q2) + l3*np.sin(q1 + q2 + q3)], 'ko-')\n",
    "    \n",
    "    plt.axis([-4,4,-4,4])\n",
    "\n",
    "    plt.pause(0.00001)\n"
   ]
  },
  {
   "cell_type": "markdown",
   "id": "5f08f658-4547-42ae-9d74-9d29e20235a7",
   "metadata": {},
   "source": [
    "# Rimless wheel with spring-loaded ankle"
   ]
  },
  {
   "cell_type": "code",
   "execution_count": 25,
   "id": "6c8d134b-527d-4729-a697-668fd534c3eb",
   "metadata": {},
   "outputs": [],
   "source": [
    "t, m, l, g, k, alpha, theta, omega, theta_0, omega_max = symbols('t m l g k alpha theta omega theta_0 omega_max')\n",
    "theta = Function('theta', real=True)(t)\n",
    "omega = Function('omega', real=True)(t)\n",
    "k_constraint = k >= 0\n",
    "theta_0_constraint = theta_0 <= -alpha"
   ]
  },
  {
   "cell_type": "code",
   "execution_count": 26,
   "id": "7a891f41-e404-48fb-b665-97e852242a30",
   "metadata": {},
   "outputs": [
    {
     "data": {
      "text/latex": [
       "$\\displaystyle - g l m \\sin{\\left(\\theta{\\left(t \\right)} \\right)} + 0.5 k \\left(- 2 \\theta_{0} + 2 \\theta{\\left(t \\right)}\\right) + 1.0 l^{2} m \\frac{d}{d t} \\omega{\\left(t \\right)}$"
      ],
      "text/plain": [
       "-g*l*m*sin(theta(t)) + 0.5*k*(-2*theta_0 + 2*theta(t)) + 1.0*l**2*m*Derivative(omega(t), t)"
      ]
     },
     "execution_count": 26,
     "metadata": {},
     "output_type": "execute_result"
    }
   ],
   "source": [
    "# The kinetic energy (the angular velocity ω)\n",
    "I = m*l**2\n",
    "T = 0.5*I*omega**2\n",
    "# The potential energy\n",
    "V = m*g*l*cos(theta)+0.5*k*(theta-theta_0)**2\n",
    "# The Lagrangian\n",
    "L = T-V\n",
    "EL = diff(diff(L, omega), t) - diff(L, theta)\n",
    "EL"
   ]
  },
  {
   "cell_type": "code",
   "execution_count": 27,
   "id": "ff93ae23-b176-4de8-afc5-ecaf2d5645f2",
   "metadata": {},
   "outputs": [
    {
     "data": {
      "text/latex": [
       "$\\displaystyle - \\frac{2.0 g l m \\left(\\cos{\\left(\\alpha \\right)} - 1.0\\right)}{\\alpha \\left(\\alpha + 2.0 \\theta_{0}\\right)}$"
      ],
      "text/plain": [
       "-2.0*g*l*m*(cos(alpha) - 1.0)/(alpha*(alpha + 2.0*theta_0))"
      ]
     },
     "execution_count": 27,
     "metadata": {},
     "output_type": "execute_result"
    }
   ],
   "source": [
    "initial_conditions = {theta: -alpha, omega: 0}\n",
    "final_conditions = {theta: 0, omega: 0}\n",
    "# The total mechanical energy\n",
    "E = T + V\n",
    "E0 = E.subs(initial_conditions)\n",
    "Ef = E.subs(final_conditions)\n",
    "conservation_equation = Eq(E0, Ef)\n",
    "relationship = simplify(solve(conservation_equation, k)[0])\n",
    "relationship"
   ]
  },
  {
   "cell_type": "code",
   "execution_count": 28,
   "id": "c6dc7b13-4541-46e6-abef-eec5330df4a8",
   "metadata": {},
   "outputs": [
    {
     "data": {
      "text/latex": [
       "$\\displaystyle \\frac{g \\left(1.0 \\alpha^{2} k + 2.0 \\alpha k \\theta_{0} + 2.0 g l m \\left(\\cos{\\left(\\alpha \\right)} - 1\\right)\\right)}{l m} = -1$"
      ],
      "text/plain": [
       "Eq(g*(1.0*alpha**2*k + 2.0*alpha*k*theta_0 + 2.0*g*l*m*(cos(alpha) - 1))/(l*m), -1)"
      ]
     },
     "execution_count": 28,
     "metadata": {},
     "output_type": "execute_result"
    }
   ],
   "source": [
    "initial_conditions = {theta: -alpha, omega: omega_max}\n",
    "final_conditions = {theta: 0, omega: 0}\n",
    "# The total mechanical energy\n",
    "E = T + V\n",
    "E0 = E.subs(initial_conditions)\n",
    "Ef = E.subs(final_conditions)\n",
    "conservation_equation = Eq(E0, Ef)\n",
    "# Solve for the maximum initial angular velocity\n",
    "omega_max = solve(conservation_equation, omega_max)\n",
    "\n",
    "# Solve the constraint for circular motion (l*omega_max)^2 / l*g <= 1\n",
    "constraint_equation = simplify(Eq((l*omega_max[0])**2 / l*g, 1))\n",
    "constraint_equation"
   ]
  },
  {
   "cell_type": "code",
   "execution_count": 29,
   "id": "cab93bad-541f-4413-bd77-076956a685c9",
   "metadata": {},
   "outputs": [
    {
     "data": {
      "text/latex": [
       "$\\displaystyle \\frac{\\omega_{n1}}{\\cos{\\left(2 \\alpha \\right)}}$"
      ],
      "text/plain": [
       "omega_n1/cos(2*alpha)"
      ]
     },
     "execution_count": 29,
     "metadata": {},
     "output_type": "execute_result"
    }
   ],
   "source": [
    "omega_nn, omega_np, omega_n1 = symbols('omega_nn omega_np omega_n1')\n",
    "# 0.5*m*l**2*omega_np**2 + m*g*l*cos(theta) + 0.5*k*(theta-theta_0)**2 = 0.5*m*l**2*omega_nn**2\n",
    "# energy_equation = 0.5*m*l**2*omega_np**2 + m*g*l*cos(theta) + 0.5*k*(theta-theta_0)**2 - 0.5*m*l**2*omega_nn**2\n",
    "# omega_nn_solution = solve(energy_equation, omega_nn)[0]\n",
    "omega_nn = sqrt(omega_np**2 + 2*g*l*cos(theta) + (k*(theta-theta_0)**2)/(m*l**2))\n",
    "reset_condition = omega_n1 - omega_nn * cos(2 * alpha)\n",
    "touch_down_return_map = solve(reset_condition, omega_nn)[0]\n",
    "touch_down_return_map"
   ]
  },
  {
   "cell_type": "code",
   "execution_count": 30,
   "id": "28b3e8b9-87bb-444f-8e3c-081471fddb1d",
   "metadata": {},
   "outputs": [
    {
     "data": {
      "text/plain": [
       "[0]"
      ]
     },
     "execution_count": 30,
     "metadata": {},
     "output_type": "execute_result"
    }
   ],
   "source": [
    "omega_star = symbols('omega_star')\n",
    "touch_down_return_map = omega_star * cos(2 * alpha)\n",
    "steady_state_speed = solve(omega_star - touch_down_return_map, omega_star)\n",
    "steady_state_speed"
   ]
  },
  {
   "cell_type": "code",
   "execution_count": 20,
   "id": "1de88df4-f1b0-4839-9d60-d49d4fe11259",
   "metadata": {},
   "outputs": [],
   "source": [
    "m = 1\n",
    "l = 5\n",
    "g = 9.8\n",
    "alpha = np.radians(30) \n",
    "\n",
    "k_values = np.linspace(0, 100, 300)\n",
    "theta_0_values = np.linspace(-0.5*np.pi, -np.pi/6, 300)\n",
    "K, Theta_0 = np.meshgrid(k_values, theta_0_values)\n",
    "\n",
    "omega_star = np.sqrt((4*K*alpha*Theta_0) / (m*l**2) * ((np.cos(2*alpha)**2) / (np.cos(2*alpha)**2 - 1)))\n",
    "\n",
    "# The robot cannot start from rest\n",
    "condition1 = -0.5 * K * (alpha**2 + 2*alpha*Theta_0) - m*g*l*np.cos(alpha)\n",
    "\n",
    "# The robot will lose contact with the ground\n",
    "condition2 = (m*g*l + 2*m*g*l*np.cos(alpha) + K*alpha**2 + 2*K*alpha*Theta_0) / (m*l**2)\n",
    "\n",
    "plt.figure()\n",
    "contourf = plt.contourf(K, Theta_0, omega_star, levels=100, cmap='viridis')\n",
    "plt.colorbar(label='$\\\\dot{\\\\theta}^*$')\n",
    "contour1 = plt.contour(K, Theta_0, condition1, levels=[0], colors='red')\n",
    "contour2 = plt.contour(K, Theta_0, condition2 - omega_star**2, levels=[0], colors='blue')\n",
    "\n",
    "plt.xlabel('$k$')\n",
    "plt.ylabel('$\\\\theta_0$')\n",
    "plt.title('heat map of steady-state walking speed $\\\\dot{\\\\theta}^*$')\n",
    "\n",
    "red_patch = mpatches.Patch(color='red', label='The robot cannot start from rest')\n",
    "blue_patch = mpatches.Patch(color='blue', label='The robot will lose contact with the ground')\n",
    "plt.legend(handles=[red_patch, blue_patch])\n",
    "plt.show()"
   ]
  },
  {
   "cell_type": "code",
   "execution_count": null,
   "id": "b94e04f9-06a0-4f3a-8e3e-64b6060f0831",
   "metadata": {},
   "outputs": [],
   "source": []
  }
 ],
 "metadata": {
  "kernelspec": {
   "display_name": "Python 3 (ipykernel)",
   "language": "python",
   "name": "python3"
  },
  "language_info": {
   "codemirror_mode": {
    "name": "ipython",
    "version": 3
   },
   "file_extension": ".py",
   "mimetype": "text/x-python",
   "name": "python",
   "nbconvert_exporter": "python",
   "pygments_lexer": "ipython3",
   "version": "3.10.13"
  }
 },
 "nbformat": 4,
 "nbformat_minor": 5
}
